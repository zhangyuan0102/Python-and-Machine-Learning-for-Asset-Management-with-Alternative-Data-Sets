{
 "cells": [
  {
   "cell_type": "markdown",
   "metadata": {},
   "source": [
    "# Twitter Dataset Introduction"
   ]
  },
  {
   "cell_type": "code",
   "execution_count": 1,
   "metadata": {},
   "outputs": [
    {
     "name": "stdout",
     "output_type": "stream",
     "text": [
      "                        id                                               text  \\\n",
      "0      1019696670777500032  VIDEO: â€œI was in my office. I was minding my...   \n",
      "1      1019709091038540032  The price of lumber $LB_F is down 22% since hi...   \n",
      "2      1019711413798029952  Who says the American Dream is dead? https://t...   \n",
      "3      1019716662587740032  Barry Silbert is extremely optimistic on bitco...   \n",
      "4      1019718460287379968  How satellites avoid attacks and space junk wh...   \n",
      "...                    ...                                                ...   \n",
      "28434  1019730088617629952         $FB : 29234a9c-7f08-4d5a-985f-cb1a5554ecf9   \n",
      "28435  1019730115524280064  ã€ä»®æƒ³é€šè²¨ã€‘ãƒ“ãƒƒãƒˆã‚³ã‚¤ãƒ³ã®ä¾¡æ ¼ä...   \n",
      "28436  1019730115805180032  RT @invest_in_hd: 'Nuff said!  $TEL #telcoin #...   \n",
      "28437  1019730117252339968  ã€ä»®æƒ³é€šè²¨ã€‘ãƒ“ãƒƒãƒˆã‚³ã‚¤ãƒ³ã®ä¾¡æ ¼ä...   \n",
      "28438  1019730146180409984  Stellar $XLM price: $0.297852 Binance registra...   \n",
      "\n",
      "                            timestamp           source symbols  \\\n",
      "0      Wed Jul 18 21:33:26 +0000 2018     GoldmanSachs      GS   \n",
      "1      Wed Jul 18 22:22:47 +0000 2018       StockTwits       M   \n",
      "2      Wed Jul 18 22:32:01 +0000 2018        TheStreet     AIG   \n",
      "3      Wed Jul 18 22:52:52 +0000 2018      MarketWatch     BTC   \n",
      "4      Wed Jul 18 23:00:01 +0000 2018           Forbes    ORCL   \n",
      "...                               ...              ...     ...   \n",
      "28434  Wed Jul 18 23:46:13 +0000 2018       test5f1798      FB   \n",
      "28435  Wed Jul 18 23:46:19 +0000 2018  keizai_toushi17     BTC   \n",
      "28436  Wed Jul 18 23:46:19 +0000 2018            iad81     BTC   \n",
      "28437  Wed Jul 18 23:46:20 +0000 2018  O8viWMyrCV6cBOZ     BTC   \n",
      "28438  Wed Jul 18 23:46:27 +0000 2018     Descendent92     AMP   \n",
      "\n",
      "              company_names  \\\n",
      "0         The Goldman Sachs   \n",
      "1                    Macy's   \n",
      "2                  American   \n",
      "3                   Bitcoin   \n",
      "4                    Oracle   \n",
      "...                     ...   \n",
      "28434              Facebook   \n",
      "28435               Bitcoin   \n",
      "28436               Bitcoin   \n",
      "28437               Bitcoin   \n",
      "28438  Ameriprise Financial   \n",
      "\n",
      "                                                     url verified Unnamed: 8  \\\n",
      "0      https://twitter.com/i/web/status/1019696670777...     True        NaN   \n",
      "1      https://twitter.com/i/web/status/1019709091038...     True        NaN   \n",
      "2                                https://buff.ly/2L3kmc4     True        NaN   \n",
      "3      https://twitter.com/i/web/status/1019716662587...     True        NaN   \n",
      "4                         http://on.forbes.com/6013DqDDU     True        NaN   \n",
      "...                                                  ...      ...        ...   \n",
      "28434                                                NaN    False        NaN   \n",
      "28435             http://keizai-toushi-navi.com/?p=26838    False        NaN   \n",
      "28436  https://twitter.com/CRYPTOVERLOAD/status/10178...    False        NaN   \n",
      "28437         http://true.velvet.jp/monexx/archives/2357    False        NaN   \n",
      "28438  https://twitter.com/i/web/status/1019730146180...    False        NaN   \n",
      "\n",
      "      Unnamed: 9 Unnamed: 10  Unnamed: 11  \n",
      "0            NaN         NaN          NaN  \n",
      "1            NaN         NaN          NaN  \n",
      "2            NaN         NaN          NaN  \n",
      "3            NaN         NaN          NaN  \n",
      "4            NaN         NaN          NaN  \n",
      "...          ...         ...          ...  \n",
      "28434        NaN         NaN          NaN  \n",
      "28435        NaN         NaN          NaN  \n",
      "28436        NaN         NaN          NaN  \n",
      "28437        NaN         NaN          NaN  \n",
      "28438        NaN         NaN          NaN  \n",
      "\n",
      "[28439 rows x 12 columns]\n"
     ]
    }
   ],
   "source": [
    "import pandas as pd\n",
    "#Read in the tweets dataset\n",
    "tweets = pd.read_excel(\"Data/stockerbot-export.xls\")\n",
    "print(tweets)"
   ]
  },
  {
   "cell_type": "code",
   "execution_count": 2,
   "metadata": {},
   "outputs": [
    {
     "name": "stdout",
     "output_type": "stream",
     "text": [
      "NFLX             101\n",
      "GPS              100\n",
      "MOMO             100\n",
      "MTB              100\n",
      "ES               100\n",
      "                ... \n",
      "TWTR               1\n",
      "M                  1\n",
      "ORCL               1\n",
      "FB-GOOGL-GOOG      1\n",
      "INTC-USB           1\n",
      "Name: symbols, Length: 453, dtype: int64\n"
     ]
    }
   ],
   "source": [
    "#What are the most common tickers?\n",
    "value_counts = tweets[\"symbols\"].value_counts()\n",
    "print(value_counts)"
   ]
  },
  {
   "cell_type": "code",
   "execution_count": 3,
   "metadata": {},
   "outputs": [
    {
     "name": "stdout",
     "output_type": "stream",
     "text": [
      "AMZN-GPS         1\n",
      "FB-GOOGL-GOOG    1\n",
      "INTC-USB         1\n",
      "Name: symbols, dtype: int64\n"
     ]
    }
   ],
   "source": [
    "#There are combination tickers, but there are so few that it is not worth including in the analysis\n",
    "i = value_counts.index.str.contains(\"-\")\n",
    "print(value_counts.loc[i])"
   ]
  },
  {
   "cell_type": "code",
   "execution_count": 4,
   "metadata": {},
   "outputs": [
    {
     "name": "stdout",
     "output_type": "stream",
     "text": [
      "VIDEO: â€œI was in my office. I was minding my own business...â€ â€“David Solomon tells $GS interns how he learned he waâ€¦ https://t.co/QClAITywXV\n"
     ]
    }
   ],
   "source": [
    "#Let's take an example of the tweet text\n",
    "print(tweets[\"text\"].iloc[0])"
   ]
  },
  {
   "cell_type": "code",
   "execution_count": 5,
   "metadata": {},
   "outputs": [
    {
     "name": "stdout",
     "output_type": "stream",
     "text": [
      "Senate wants emergency alerts to go out through Netflix Spotify etc. https://t.co/23yy3whBlc by @grg\n"
     ]
    }
   ],
   "source": [
    "#What are Netflix's tweets\n",
    "print(tweets[tweets[\"symbols\"] == \"NFLX\"]['text'].iloc[0])"
   ]
  },
  {
   "cell_type": "code",
   "execution_count": 6,
   "metadata": {},
   "outputs": [
    {
     "name": "stdout",
     "output_type": "stream",
     "text": [
      "[]\n",
      "['$NFLX']\n",
      "[]\n",
      "['$FANG', '$FB', '$AMZN']\n",
      "['$SPY', '$NFLX', '$UVXY', '$MS', '$CSX', '$ABT', '$UAL']\n",
      "['$HMNY', '$AMD', '$MU']\n",
      "['$NFLX']\n",
      "['$CL']\n",
      "['$FANG', '$FB', '$AMZN']\n",
      "['$TWTR', '$FB', '$AAPL', '$NFLX', '$TSLA', '$AMZN', '$GOOGL']\n",
      "['$TSLA']\n",
      "['$NFLX', '$BAC', '$FB', '$MSFT', '$AAPL', '$MSFT', '$TWTR', '$BABA', '$TWTR', '$JD', '$NXPI', '$AMD', '$JPM', '$MU', '$TSLA', '$MS', '$C', '$ROKU', '$CSX']\n",
      "['$FANG', '$FB', '$AMZN']\n",
      "['$ABMD', '$CRM', '$PANW', '$TWTR', '$ALGN', '$NOW', '$FB', '$NFLX', '$ILMN', '$MA', '$V', '$LULU', '$ADBE', '$GOOGL', '$ISRG', '$A']\n",
      "['$NFLX']\n",
      "['$MS', '$BAC', '$CPAH']\n",
      "['$NFLX', '$SIRI', '$SPOT', '$T', '$AMZN', '$DIS']\n",
      "['$NFLX', '$SIRI', '$SPOT', '$T', '$AMZN', '$DIS']\n",
      "[]\n",
      "['$NFLX', '$SIRI', '$SPOT', '$T', '$AMZN', '$DIS']\n",
      "['$TSLA', '$NFLX', '$BIDU', '$BABA', '$GOOGL', '$DIS']\n",
      "['$SPY', '$NFLX', '$UVXY', '$MS', '$CSX', '$ABT', '$UAL']\n",
      "['$NFLX']\n",
      "['$AAPL', '$AMZN', '$NFLX', '$GOOGL', '$SPX', '$TWTR']\n",
      "['$SPOT', '$NFLX', '$SIRI']\n",
      "['$NFLX', '$SIRI', '$SPOT', '$T', '$AMZN', '$DIS']\n",
      "['$SPX', '$NFLX']\n",
      "['$NFLX']\n",
      "['$FANG', '$FB', '$AMZN']\n",
      "['$NFLX', '$BAC', '$FB', '$MSFT', '$AAPL', '$MSFT', '$TWTR', '$BABA', '$TWTR', '$JD', '$NXPI', '$AMD', '$JPM', '$MU', '$TSLA', '$MS', '$C', '$ROKU', '$CSX']\n",
      "['$NFLX']\n",
      "['$NFLX']\n",
      "['$DJIA', '$QQQ', '$NFLX', '$FB']\n",
      "['$TWTR', '$AMZN', '$NFLX', '$GOOGL', '$BABA', '$C', '$FB']\n",
      "['$SPX', '$NFLX']\n",
      "['$NFLX', '$SIRI']\n",
      "['$NFLX']\n",
      "['$NFLX']\n",
      "['$TSLA']\n",
      "['$NFLX']\n",
      "['$SPX']\n",
      "['$NFLX', '$ROKU']\n",
      "['$DJIA', '$QQQ', '$NFLX', '$FB']\n",
      "['$NFLX', '$MS']\n",
      "['$BABA', '$NVDA', '$AMZN', '$NFLX', '$GOOGL']\n",
      "['$IBM', '$NFLX']\n",
      "['$FB', '$NFLX', '$AMZN', '$SPX', '$TSLA', '$AAPL', '$GS']\n",
      "['$ebay']\n",
      "['$NFLX', '$BAC', '$MU', '$FB', '$AAPL', '$MSFT', '$BABA', '$F', '$JD', '$GE', '$IBM', '$TWTR', '$GGP', '$AAL', '$TSLA', '$NXPI', '$AMD', '$SBUX', '$PG', '$EBAY', '$JPM', '$MS', '$UAL']\n",
      "['$NFLX']\n",
      "['$AMZN']\n",
      "['$UAL', '$CSX', '$DAL', '$AAL', '$FOXA', '$EBAY', '$AMZN', '$WMT', '$SBUX', '$CMCSA', '$BABA', '$NFLX']\n",
      "['$FANG', '$FB', '$AMZN']\n",
      "['$NFLX']\n",
      "[]\n",
      "['$SBUX', '$NFLX']\n",
      "[]\n",
      "[]\n",
      "[]\n",
      "[]\n",
      "['$SPX']\n",
      "['$NFLX', '$TSLA', '$AAPL', '$IBB', '$GS', '$FB', '$AMZN', '$GOOGL', '$NVDA']\n",
      "['$JD', '$GE', '$BAC', '$F', '$FB', '$NFLX', '$AABA', '$MU', '$AAPL', '$CMCSA', '$PG', '$AAL', '$WFC', '$SBUX', '$FOXA']\n",
      "['$DJIA', '$QQQ', '$NFLX', '$FB']\n",
      "['$FANG', '$FB', '$AMZN']\n",
      "[]\n",
      "['$AMZN', '$IBB', '$XLY', '$XLK', '$FB', '$AMZN', '$MSFT', '$AAPL', '$GOOGL']\n",
      "['$AAPL', '$AMZN', '$NFLX', '$GOOGL', '$SPX', '$TWTR']\n",
      "['$IQ', '$NFLX']\n",
      "['$TWTR', '$RH', '$AAPL', '$NFLX', '$TSLA', '$AMZN', '$GOOGL']\n",
      "['$NFLX']\n",
      "['$NFLX', '$EROS', '$IFN', '$EPI']\n",
      "['$SPY', '$NFLX', '$UVXY', '$MS', '$CSX', '$ABT', '$UAL']\n",
      "['$NFLX']\n",
      "['$WMT', '$AMZN', '$NFLX', '$WMT']\n",
      "[]\n",
      "['$NFLX']\n",
      "['$nflx', '$amzn', '$aapl', '$goog', '$nwl', '$nvda', '$ibm']\n",
      "['$NFLX', '$BABA', '$UAL', '$AAPL', '$BAC', '$F', '$TWTR', '$JPM', '$MS', '$NXPI', '$MU', '$AAL', '$MSFT', '$GGP', '$TSLA', '$SBUX', '$IBM', '$EBAY', '$PG', '$AMD', '$JD', '$FB', '$GE']\n",
      "['$FANG', '$FB', '$AMZN']\n",
      "['$NFLX']\n",
      "['$nflx']\n",
      "['$NFLX']\n",
      "['$NFLX']\n",
      "['$AAPL', '$AMZN', '$NFLX', '$GOOGL', '$SPX', '$TWTR']\n",
      "[]\n",
      "['$FANG', '$FB', '$AMZN']\n",
      "['$NFLX', '$AMZN', '$ADDYY', '$AAPL', '$DIS']\n",
      "['$FANG', '$FB', '$AMZN']\n",
      "['$TWTR', '$AMZN', '$NFLX', '$GOOGL', '$WIX', '$GS', '$FB']\n",
      "[]\n",
      "['$FB', '$TWTR', '$NFLX']\n",
      "['$TSLA', '$NFLX']\n",
      "[]\n",
      "['$NFLX']\n",
      "['$AAPL', '$AMZN', '$NFLX', '$GOOGL', '$SPX', '$TWTR']\n",
      "['$NFLX']\n",
      "['$TSLA', '$NFLX']\n",
      "['$NFLX', '$AMZN', '$ADDYY', '$AAPL', '$DIS']\n",
      "['$AMZN', '$GOOGL', '$NFLX', '$BA', '$TSLA', '$TWTR', '$SQ', '$ROKU']\n",
      "['$SQ', '$NFLX', '$AMZN', '$AMD', '$TSLA', '$AAPL', '$GS']\n"
     ]
    }
   ],
   "source": [
    "import re\n",
    "#The $ can be used to reference different stocks\n",
    "#Using regular expressions we can parse out connections\n",
    "for x in tweets[tweets[\"symbols\"] == \"NFLX\"]['text']:\n",
    "    print(re.findall(\"\\$[a-zA-Z]+\", x))"
   ]
  },
  {
   "cell_type": "code",
   "execution_count": 7,
   "metadata": {},
   "outputs": [
    {
     "name": "stdout",
     "output_type": "stream",
     "text": [
      "8                                                       []\n",
      "26391                                              [$NFLX]\n",
      "26398                                                   []\n",
      "26411                                  [$FANG, $FB, $AMZN]\n",
      "26414          [$SPY, $NFLX, $UVXY, $MS, $CSX, $ABT, $UAL]\n",
      "                               ...                        \n",
      "28201                                              [$NFLX]\n",
      "28241                                       [$TSLA, $NFLX]\n",
      "28274                  [$NFLX, $AMZN, $ADDYY, $AAPL, $DIS]\n",
      "28290    [$AMZN, $GOOGL, $NFLX, $BA, $TSLA, $TWTR, $SQ,...\n",
      "28412         [$SQ, $NFLX, $AMZN, $AMD, $TSLA, $AAPL, $GS]\n",
      "Name: text, Length: 101, dtype: object\n"
     ]
    }
   ],
   "source": [
    "#It is not difficult to apply the regular expression to the dataframe\n",
    "print(tweets[tweets[\"symbols\"] == \"NFLX\"]['text'].apply(lambda x: re.findall(\"\\$[a-zA-Z]+\", x)))"
   ]
  },
  {
   "cell_type": "code",
   "execution_count": 8,
   "metadata": {
    "scrolled": true
   },
   "outputs": [
    {
     "name": "stdout",
     "output_type": "stream",
     "text": [
      "       $NFLX  $FANG  $AMZN  $FB  $UVXY  $ABT  $SPY  $MS  $UAL  $CSX  ...  \\\n",
      "8        NaN    NaN    NaN  NaN    NaN   NaN   NaN  NaN   NaN   NaN  ...   \n",
      "26391    1.0    NaN    NaN  NaN    NaN   NaN   NaN  NaN   NaN   NaN  ...   \n",
      "26398    NaN    NaN    NaN  NaN    NaN   NaN   NaN  NaN   NaN   NaN  ...   \n",
      "26411    NaN    1.0    1.0  1.0    NaN   NaN   NaN  NaN   NaN   NaN  ...   \n",
      "26414    1.0    NaN    NaN  NaN    1.0   1.0   1.0  1.0   1.0   1.0  ...   \n",
      "...      ...    ...    ...  ...    ...   ...   ...  ...   ...   ...  ...   \n",
      "28201    1.0    NaN    NaN  NaN    NaN   NaN   NaN  NaN   NaN   NaN  ...   \n",
      "28241    1.0    NaN    NaN  NaN    NaN   NaN   NaN  NaN   NaN   NaN  ...   \n",
      "28274    1.0    NaN    1.0  NaN    NaN   NaN   NaN  NaN   NaN   NaN  ...   \n",
      "28290    1.0    NaN    1.0  NaN    NaN   NaN   NaN  NaN   NaN   NaN  ...   \n",
      "28412    1.0    NaN    1.0  NaN    NaN   NaN   NaN  NaN   NaN   NaN  ...   \n",
      "\n",
      "       $nwl  $ibm  $goog  $nflx  $amzn  $nvda  $ADDYY  $WIX  $SQ  $BA  \n",
      "8       NaN   NaN    NaN    NaN    NaN    NaN     NaN   NaN  NaN  NaN  \n",
      "26391   NaN   NaN    NaN    NaN    NaN    NaN     NaN   NaN  NaN  NaN  \n",
      "26398   NaN   NaN    NaN    NaN    NaN    NaN     NaN   NaN  NaN  NaN  \n",
      "26411   NaN   NaN    NaN    NaN    NaN    NaN     NaN   NaN  NaN  NaN  \n",
      "26414   NaN   NaN    NaN    NaN    NaN    NaN     NaN   NaN  NaN  NaN  \n",
      "...     ...   ...    ...    ...    ...    ...     ...   ...  ...  ...  \n",
      "28201   NaN   NaN    NaN    NaN    NaN    NaN     NaN   NaN  NaN  NaN  \n",
      "28241   NaN   NaN    NaN    NaN    NaN    NaN     NaN   NaN  NaN  NaN  \n",
      "28274   NaN   NaN    NaN    NaN    NaN    NaN     1.0   NaN  NaN  NaN  \n",
      "28290   NaN   NaN    NaN    NaN    NaN    NaN     NaN   NaN  1.0  1.0  \n",
      "28412   NaN   NaN    NaN    NaN    NaN    NaN     NaN   NaN  1.0  NaN  \n",
      "\n",
      "[101 rows x 83 columns]\n"
     ]
    }
   ],
   "source": [
    "#And we can convert it to a boolean index signifying connections by mapping the arrays to series\n",
    "print(tweets[tweets[\"symbols\"] == \"NFLX\"]['text'].apply(lambda x: re.findall(\"\\$[a-zA-Z]+\", x)).apply(lambda x: pd.Series(1, index=set(x))))"
   ]
  },
  {
   "cell_type": "code",
   "execution_count": 9,
   "metadata": {},
   "outputs": [
    {
     "name": "stdout",
     "output_type": "stream",
     "text": [
      "       $NFLX  $FANG  $AMZN  $FB  $UVXY  $ABT  $SPY  $MS  $UAL  $CSX  ...  \\\n",
      "8        0.0    0.0    0.0  0.0    0.0   0.0   0.0  0.0   0.0   0.0  ...   \n",
      "26391    1.0    0.0    0.0  0.0    0.0   0.0   0.0  0.0   0.0   0.0  ...   \n",
      "26398    0.0    0.0    0.0  0.0    0.0   0.0   0.0  0.0   0.0   0.0  ...   \n",
      "26411    0.0    1.0    1.0  1.0    0.0   0.0   0.0  0.0   0.0   0.0  ...   \n",
      "26414    1.0    0.0    0.0  0.0    1.0   1.0   1.0  1.0   1.0   1.0  ...   \n",
      "...      ...    ...    ...  ...    ...   ...   ...  ...   ...   ...  ...   \n",
      "28201    1.0    0.0    0.0  0.0    0.0   0.0   0.0  0.0   0.0   0.0  ...   \n",
      "28241    1.0    0.0    0.0  0.0    0.0   0.0   0.0  0.0   0.0   0.0  ...   \n",
      "28274    1.0    0.0    1.0  0.0    0.0   0.0   0.0  0.0   0.0   0.0  ...   \n",
      "28290    1.0    0.0    1.0  0.0    0.0   0.0   0.0  0.0   0.0   0.0  ...   \n",
      "28412    1.0    0.0    1.0  0.0    0.0   0.0   0.0  0.0   0.0   0.0  ...   \n",
      "\n",
      "       $nwl  $ibm  $goog  $nflx  $amzn  $nvda  $ADDYY  $WIX  $SQ  $BA  \n",
      "8       0.0   0.0    0.0    0.0    0.0    0.0     0.0   0.0  0.0  0.0  \n",
      "26391   0.0   0.0    0.0    0.0    0.0    0.0     0.0   0.0  0.0  0.0  \n",
      "26398   0.0   0.0    0.0    0.0    0.0    0.0     0.0   0.0  0.0  0.0  \n",
      "26411   0.0   0.0    0.0    0.0    0.0    0.0     0.0   0.0  0.0  0.0  \n",
      "26414   0.0   0.0    0.0    0.0    0.0    0.0     0.0   0.0  0.0  0.0  \n",
      "...     ...   ...    ...    ...    ...    ...     ...   ...  ...  ...  \n",
      "28201   0.0   0.0    0.0    0.0    0.0    0.0     0.0   0.0  0.0  0.0  \n",
      "28241   0.0   0.0    0.0    0.0    0.0    0.0     0.0   0.0  0.0  0.0  \n",
      "28274   0.0   0.0    0.0    0.0    0.0    0.0     1.0   0.0  0.0  0.0  \n",
      "28290   0.0   0.0    0.0    0.0    0.0    0.0     0.0   0.0  1.0  1.0  \n",
      "28412   0.0   0.0    0.0    0.0    0.0    0.0     0.0   0.0  1.0  0.0  \n",
      "\n",
      "[101 rows x 83 columns]\n"
     ]
    }
   ],
   "source": [
    "#Just don't forget to fill the null values with 0\n",
    "test = tweets[tweets[\"symbols\"] == \"NFLX\"]['text'].apply(lambda x: re.findall(\"\\$[a-zA-Z]+\", x)).apply(lambda x: pd.Series(1, index=set(x))).fillna(0)\n",
    "print(test)"
   ]
  },
  {
   "cell_type": "code",
   "execution_count": 10,
   "metadata": {},
   "outputs": [
    {
     "data": {
      "text/plain": [
       "['a', 'a']"
      ]
     },
     "execution_count": 10,
     "metadata": {},
     "output_type": "execute_result"
    }
   ],
   "source": [
    "#Map takes a function and applies it over a list\n",
    "list(map(str.lower, [\"A\", \"a\"]))"
   ]
  },
  {
   "cell_type": "code",
   "execution_count": 11,
   "metadata": {},
   "outputs": [
    {
     "name": "stdout",
     "output_type": "stream",
     "text": [
      "       $NFLX  $FANG  $AMZN  $FB  $UVXY  $ABT  $SPY  $MS  $UAL  $CSX  ...  $RH  \\\n",
      "8        0.0    0.0    0.0  0.0    0.0   0.0   0.0  0.0   0.0   0.0  ...  0.0   \n",
      "26391    1.0    0.0    0.0  0.0    0.0   0.0   0.0  0.0   0.0   0.0  ...  0.0   \n",
      "26398    0.0    0.0    0.0  0.0    0.0   0.0   0.0  0.0   0.0   0.0  ...  0.0   \n",
      "26411    0.0    1.0    1.0  1.0    0.0   0.0   0.0  0.0   0.0   0.0  ...  0.0   \n",
      "26414    1.0    0.0    0.0  0.0    1.0   1.0   1.0  1.0   1.0   1.0  ...  0.0   \n",
      "...      ...    ...    ...  ...    ...   ...   ...  ...   ...   ...  ...  ...   \n",
      "28201    1.0    0.0    0.0  0.0    0.0   0.0   0.0  0.0   0.0   0.0  ...  0.0   \n",
      "28241    1.0    0.0    0.0  0.0    0.0   0.0   0.0  0.0   0.0   0.0  ...  0.0   \n",
      "28274    1.0    0.0    1.0  0.0    0.0   0.0   0.0  0.0   0.0   0.0  ...  0.0   \n",
      "28290    1.0    0.0    1.0  0.0    0.0   0.0   0.0  0.0   0.0   0.0  ...  0.0   \n",
      "28412    1.0    0.0    1.0  0.0    0.0   0.0   0.0  0.0   0.0   0.0  ...  0.0   \n",
      "\n",
      "       $IFN  $EPI  $EROS  $NWL  $GOOG  $ADDYY  $WIX  $SQ  $BA  \n",
      "8       0.0   0.0    0.0   0.0    0.0     0.0   0.0  0.0  0.0  \n",
      "26391   0.0   0.0    0.0   0.0    0.0     0.0   0.0  0.0  0.0  \n",
      "26398   0.0   0.0    0.0   0.0    0.0     0.0   0.0  0.0  0.0  \n",
      "26411   0.0   0.0    0.0   0.0    0.0     0.0   0.0  0.0  0.0  \n",
      "26414   0.0   0.0    0.0   0.0    0.0     0.0   0.0  0.0  0.0  \n",
      "...     ...   ...    ...   ...    ...     ...   ...  ...  ...  \n",
      "28201   0.0   0.0    0.0   0.0    0.0     0.0   0.0  0.0  0.0  \n",
      "28241   0.0   0.0    0.0   0.0    0.0     0.0   0.0  0.0  0.0  \n",
      "28274   0.0   0.0    0.0   0.0    0.0     1.0   0.0  0.0  0.0  \n",
      "28290   0.0   0.0    0.0   0.0    0.0     0.0   0.0  1.0  1.0  \n",
      "28412   0.0   0.0    0.0   0.0    0.0     0.0   0.0  1.0  0.0  \n",
      "\n",
      "[101 rows x 77 columns]\n"
     ]
    }
   ],
   "source": [
    "#So let's apply it so that we can normalize the tickers to all be uppercase\n",
    "test = tweets[tweets[\"symbols\"] == \"NFLX\"]['text'].apply(lambda x: re.findall(\"\\$[a-zA-Z]+\", x)).apply(lambda x: pd.Series(1, index=set(map(str.upper, x)))).fillna(0)\n",
    "print(test)"
   ]
  },
  {
   "cell_type": "code",
   "execution_count": 12,
   "metadata": {},
   "outputs": [
    {
     "name": "stdout",
     "output_type": "stream",
     "text": [
      "$NFLX     69.0\n",
      "$FANG      9.0\n",
      "$AMZN     33.0\n",
      "$FB       25.0\n",
      "$UVXY      3.0\n",
      "          ... \n",
      "$GOOG      1.0\n",
      "$ADDYY     2.0\n",
      "$WIX       1.0\n",
      "$SQ        2.0\n",
      "$BA        1.0\n",
      "Length: 77, dtype: float64\n"
     ]
    }
   ],
   "source": [
    "#What are the most commonly cross-referenced for Netflix?\n",
    "test = test.sum()\n",
    "print(test)"
   ]
  },
  {
   "cell_type": "code",
   "execution_count": 13,
   "metadata": {},
   "outputs": [
    {
     "name": "stdout",
     "output_type": "stream",
     "text": [
      "$NFLX     69.0\n",
      "$FANG      9.0\n",
      "$AMZN     33.0\n",
      "$FB       25.0\n",
      "$UVXY      3.0\n",
      "          ... \n",
      "$GOOG      1.0\n",
      "$ADDYY     2.0\n",
      "$WIX       1.0\n",
      "$SQ        2.0\n",
      "$BA        1.0\n",
      "Length: 77, dtype: float64\n"
     ]
    }
   ],
   "source": [
    "#Let's turn this into a function\n",
    "def find_outward_connections(tweets):\n",
    "    return tweets['text'].apply(lambda x: re.findall(\"\\$[a-zA-Z]+\", x)).apply(lambda x: pd.Series(1, index=set(map(str.upper, x)))).fillna(0).sum()\n",
    "print(find_outward_connections(tweets[tweets[\"symbols\"] == \"NFLX\"]))"
   ]
  },
  {
   "cell_type": "code",
   "execution_count": 14,
   "metadata": {},
   "outputs": [
    {
     "name": "stdout",
     "output_type": "stream",
     "text": [
      "symbols         \n",
      "A        $ION        1.0\n",
      "         $A         73.0\n",
      "         $R          1.0\n",
      "         $IT        11.0\n",
      "         $CRY        3.0\n",
      "                    ... \n",
      "ZTS      $ANET       1.0\n",
      "         $OLLI       1.0\n",
      "         $PANW       1.0\n",
      "         $GRUB       1.0\n",
      "ticker   $TICKER     1.0\n",
      "Length: 23047, dtype: float64\n"
     ]
    }
   ],
   "source": [
    "#And now with the function let's apply for each source ticker\n",
    "connections = tweets.groupby(\"symbols\").apply(find_outward_connections)\n",
    "print(connections)"
   ]
  },
  {
   "cell_type": "code",
   "execution_count": 15,
   "metadata": {},
   "outputs": [
    {
     "data": {
      "text/html": [
       "<div>\n",
       "<style scoped>\n",
       "    .dataframe tbody tr th:only-of-type {\n",
       "        vertical-align: middle;\n",
       "    }\n",
       "\n",
       "    .dataframe tbody tr th {\n",
       "        vertical-align: top;\n",
       "    }\n",
       "\n",
       "    .dataframe thead th {\n",
       "        text-align: right;\n",
       "    }\n",
       "</style>\n",
       "<table border=\"1\" class=\"dataframe\">\n",
       "  <thead>\n",
       "    <tr style=\"text-align: right;\">\n",
       "      <th></th>\n",
       "      <th>Source</th>\n",
       "      <th>Target</th>\n",
       "      <th>N</th>\n",
       "    </tr>\n",
       "  </thead>\n",
       "  <tbody>\n",
       "    <tr>\n",
       "      <th>0</th>\n",
       "      <td>A</td>\n",
       "      <td>$ION</td>\n",
       "      <td>1.0</td>\n",
       "    </tr>\n",
       "    <tr>\n",
       "      <th>1</th>\n",
       "      <td>A</td>\n",
       "      <td>$A</td>\n",
       "      <td>73.0</td>\n",
       "    </tr>\n",
       "    <tr>\n",
       "      <th>2</th>\n",
       "      <td>A</td>\n",
       "      <td>$R</td>\n",
       "      <td>1.0</td>\n",
       "    </tr>\n",
       "    <tr>\n",
       "      <th>3</th>\n",
       "      <td>A</td>\n",
       "      <td>$IT</td>\n",
       "      <td>11.0</td>\n",
       "    </tr>\n",
       "    <tr>\n",
       "      <th>4</th>\n",
       "      <td>A</td>\n",
       "      <td>$CRY</td>\n",
       "      <td>3.0</td>\n",
       "    </tr>\n",
       "    <tr>\n",
       "      <th>...</th>\n",
       "      <td>...</td>\n",
       "      <td>...</td>\n",
       "      <td>...</td>\n",
       "    </tr>\n",
       "    <tr>\n",
       "      <th>23042</th>\n",
       "      <td>ZTS</td>\n",
       "      <td>$ANET</td>\n",
       "      <td>1.0</td>\n",
       "    </tr>\n",
       "    <tr>\n",
       "      <th>23043</th>\n",
       "      <td>ZTS</td>\n",
       "      <td>$OLLI</td>\n",
       "      <td>1.0</td>\n",
       "    </tr>\n",
       "    <tr>\n",
       "      <th>23044</th>\n",
       "      <td>ZTS</td>\n",
       "      <td>$PANW</td>\n",
       "      <td>1.0</td>\n",
       "    </tr>\n",
       "    <tr>\n",
       "      <th>23045</th>\n",
       "      <td>ZTS</td>\n",
       "      <td>$GRUB</td>\n",
       "      <td>1.0</td>\n",
       "    </tr>\n",
       "    <tr>\n",
       "      <th>23046</th>\n",
       "      <td>ticker</td>\n",
       "      <td>$TICKER</td>\n",
       "      <td>1.0</td>\n",
       "    </tr>\n",
       "  </tbody>\n",
       "</table>\n",
       "<p>23047 rows × 3 columns</p>\n",
       "</div>"
      ],
      "text/plain": [
       "       Source   Target     N\n",
       "0           A     $ION   1.0\n",
       "1           A       $A  73.0\n",
       "2           A       $R   1.0\n",
       "3           A      $IT  11.0\n",
       "4           A     $CRY   3.0\n",
       "...       ...      ...   ...\n",
       "23042     ZTS    $ANET   1.0\n",
       "23043     ZTS    $OLLI   1.0\n",
       "23044     ZTS    $PANW   1.0\n",
       "23045     ZTS    $GRUB   1.0\n",
       "23046  ticker  $TICKER   1.0\n",
       "\n",
       "[23047 rows x 3 columns]"
      ]
     },
     "execution_count": 15,
     "metadata": {},
     "output_type": "execute_result"
    }
   ],
   "source": [
    "#Do some cleaning up\n",
    "connections = connections.reset_index()\n",
    "connections.columns = [\"Source\", \"Target\", \"N\"]\n",
    "connections"
   ]
  },
  {
   "cell_type": "code",
   "execution_count": 16,
   "metadata": {},
   "outputs": [
    {
     "data": {
      "text/html": [
       "<div>\n",
       "<style scoped>\n",
       "    .dataframe tbody tr th:only-of-type {\n",
       "        vertical-align: middle;\n",
       "    }\n",
       "\n",
       "    .dataframe tbody tr th {\n",
       "        vertical-align: top;\n",
       "    }\n",
       "\n",
       "    .dataframe thead th {\n",
       "        text-align: right;\n",
       "    }\n",
       "</style>\n",
       "<table border=\"1\" class=\"dataframe\">\n",
       "  <thead>\n",
       "    <tr style=\"text-align: right;\">\n",
       "      <th></th>\n",
       "      <th>Source</th>\n",
       "      <th>Target</th>\n",
       "      <th>N</th>\n",
       "    </tr>\n",
       "  </thead>\n",
       "  <tbody>\n",
       "    <tr>\n",
       "      <th>0</th>\n",
       "      <td>A</td>\n",
       "      <td>ION</td>\n",
       "      <td>1.0</td>\n",
       "    </tr>\n",
       "    <tr>\n",
       "      <th>1</th>\n",
       "      <td>A</td>\n",
       "      <td>A</td>\n",
       "      <td>73.0</td>\n",
       "    </tr>\n",
       "    <tr>\n",
       "      <th>2</th>\n",
       "      <td>A</td>\n",
       "      <td>R</td>\n",
       "      <td>1.0</td>\n",
       "    </tr>\n",
       "    <tr>\n",
       "      <th>3</th>\n",
       "      <td>A</td>\n",
       "      <td>IT</td>\n",
       "      <td>11.0</td>\n",
       "    </tr>\n",
       "    <tr>\n",
       "      <th>4</th>\n",
       "      <td>A</td>\n",
       "      <td>CRY</td>\n",
       "      <td>3.0</td>\n",
       "    </tr>\n",
       "    <tr>\n",
       "      <th>...</th>\n",
       "      <td>...</td>\n",
       "      <td>...</td>\n",
       "      <td>...</td>\n",
       "    </tr>\n",
       "    <tr>\n",
       "      <th>23042</th>\n",
       "      <td>ZTS</td>\n",
       "      <td>ANET</td>\n",
       "      <td>1.0</td>\n",
       "    </tr>\n",
       "    <tr>\n",
       "      <th>23043</th>\n",
       "      <td>ZTS</td>\n",
       "      <td>OLLI</td>\n",
       "      <td>1.0</td>\n",
       "    </tr>\n",
       "    <tr>\n",
       "      <th>23044</th>\n",
       "      <td>ZTS</td>\n",
       "      <td>PANW</td>\n",
       "      <td>1.0</td>\n",
       "    </tr>\n",
       "    <tr>\n",
       "      <th>23045</th>\n",
       "      <td>ZTS</td>\n",
       "      <td>GRUB</td>\n",
       "      <td>1.0</td>\n",
       "    </tr>\n",
       "    <tr>\n",
       "      <th>23046</th>\n",
       "      <td>ticker</td>\n",
       "      <td>TICKER</td>\n",
       "      <td>1.0</td>\n",
       "    </tr>\n",
       "  </tbody>\n",
       "</table>\n",
       "<p>23047 rows × 3 columns</p>\n",
       "</div>"
      ],
      "text/plain": [
       "       Source  Target     N\n",
       "0           A     ION   1.0\n",
       "1           A       A  73.0\n",
       "2           A       R   1.0\n",
       "3           A      IT  11.0\n",
       "4           A     CRY   3.0\n",
       "...       ...     ...   ...\n",
       "23042     ZTS    ANET   1.0\n",
       "23043     ZTS    OLLI   1.0\n",
       "23044     ZTS    PANW   1.0\n",
       "23045     ZTS    GRUB   1.0\n",
       "23046  ticker  TICKER   1.0\n",
       "\n",
       "[23047 rows x 3 columns]"
      ]
     },
     "execution_count": 16,
     "metadata": {},
     "output_type": "execute_result"
    }
   ],
   "source": [
    "#More fixing, get rid of the dollar signs\n",
    "connections[\"Target\"] = connections[\"Target\"].str.replace(\"$\",\"\")\n",
    "connections"
   ]
  },
  {
   "cell_type": "code",
   "execution_count": 17,
   "metadata": {},
   "outputs": [
    {
     "data": {
      "text/html": [
       "<div>\n",
       "<style scoped>\n",
       "    .dataframe tbody tr th:only-of-type {\n",
       "        vertical-align: middle;\n",
       "    }\n",
       "\n",
       "    .dataframe tbody tr th {\n",
       "        vertical-align: top;\n",
       "    }\n",
       "\n",
       "    .dataframe thead th {\n",
       "        text-align: right;\n",
       "    }\n",
       "</style>\n",
       "<table border=\"1\" class=\"dataframe\">\n",
       "  <thead>\n",
       "    <tr style=\"text-align: right;\">\n",
       "      <th>Source</th>\n",
       "      <th>A</th>\n",
       "      <th>AABA</th>\n",
       "      <th>AAL</th>\n",
       "      <th>AAOI</th>\n",
       "      <th>AAP</th>\n",
       "      <th>AAPL</th>\n",
       "      <th>ABBV</th>\n",
       "      <th>ABC</th>\n",
       "      <th>ABEV</th>\n",
       "      <th>ABT</th>\n",
       "      <th>...</th>\n",
       "      <th>XOM</th>\n",
       "      <th>XRAY</th>\n",
       "      <th>XRX</th>\n",
       "      <th>XYL</th>\n",
       "      <th>YNDX</th>\n",
       "      <th>YUM</th>\n",
       "      <th>ZBH</th>\n",
       "      <th>ZNGA</th>\n",
       "      <th>ZTS</th>\n",
       "      <th>ticker</th>\n",
       "    </tr>\n",
       "    <tr>\n",
       "      <th>Target</th>\n",
       "      <th></th>\n",
       "      <th></th>\n",
       "      <th></th>\n",
       "      <th></th>\n",
       "      <th></th>\n",
       "      <th></th>\n",
       "      <th></th>\n",
       "      <th></th>\n",
       "      <th></th>\n",
       "      <th></th>\n",
       "      <th></th>\n",
       "      <th></th>\n",
       "      <th></th>\n",
       "      <th></th>\n",
       "      <th></th>\n",
       "      <th></th>\n",
       "      <th></th>\n",
       "      <th></th>\n",
       "      <th></th>\n",
       "      <th></th>\n",
       "      <th></th>\n",
       "    </tr>\n",
       "  </thead>\n",
       "  <tbody>\n",
       "    <tr>\n",
       "      <th>A</th>\n",
       "      <td>73.0</td>\n",
       "      <td>NaN</td>\n",
       "      <td>NaN</td>\n",
       "      <td>NaN</td>\n",
       "      <td>NaN</td>\n",
       "      <td>NaN</td>\n",
       "      <td>NaN</td>\n",
       "      <td>NaN</td>\n",
       "      <td>NaN</td>\n",
       "      <td>NaN</td>\n",
       "      <td>...</td>\n",
       "      <td>NaN</td>\n",
       "      <td>NaN</td>\n",
       "      <td>NaN</td>\n",
       "      <td>NaN</td>\n",
       "      <td>NaN</td>\n",
       "      <td>9.0</td>\n",
       "      <td>NaN</td>\n",
       "      <td>NaN</td>\n",
       "      <td>NaN</td>\n",
       "      <td>NaN</td>\n",
       "    </tr>\n",
       "    <tr>\n",
       "      <th>AA</th>\n",
       "      <td>NaN</td>\n",
       "      <td>NaN</td>\n",
       "      <td>NaN</td>\n",
       "      <td>NaN</td>\n",
       "      <td>NaN</td>\n",
       "      <td>NaN</td>\n",
       "      <td>NaN</td>\n",
       "      <td>NaN</td>\n",
       "      <td>NaN</td>\n",
       "      <td>NaN</td>\n",
       "      <td>...</td>\n",
       "      <td>NaN</td>\n",
       "      <td>NaN</td>\n",
       "      <td>NaN</td>\n",
       "      <td>NaN</td>\n",
       "      <td>NaN</td>\n",
       "      <td>NaN</td>\n",
       "      <td>NaN</td>\n",
       "      <td>NaN</td>\n",
       "      <td>NaN</td>\n",
       "      <td>NaN</td>\n",
       "    </tr>\n",
       "    <tr>\n",
       "      <th>AABA</th>\n",
       "      <td>NaN</td>\n",
       "      <td>56.0</td>\n",
       "      <td>NaN</td>\n",
       "      <td>NaN</td>\n",
       "      <td>NaN</td>\n",
       "      <td>NaN</td>\n",
       "      <td>NaN</td>\n",
       "      <td>NaN</td>\n",
       "      <td>NaN</td>\n",
       "      <td>NaN</td>\n",
       "      <td>...</td>\n",
       "      <td>NaN</td>\n",
       "      <td>NaN</td>\n",
       "      <td>NaN</td>\n",
       "      <td>NaN</td>\n",
       "      <td>NaN</td>\n",
       "      <td>NaN</td>\n",
       "      <td>NaN</td>\n",
       "      <td>NaN</td>\n",
       "      <td>NaN</td>\n",
       "      <td>NaN</td>\n",
       "    </tr>\n",
       "    <tr>\n",
       "      <th>AAC</th>\n",
       "      <td>NaN</td>\n",
       "      <td>NaN</td>\n",
       "      <td>NaN</td>\n",
       "      <td>NaN</td>\n",
       "      <td>NaN</td>\n",
       "      <td>NaN</td>\n",
       "      <td>1.0</td>\n",
       "      <td>NaN</td>\n",
       "      <td>NaN</td>\n",
       "      <td>NaN</td>\n",
       "      <td>...</td>\n",
       "      <td>NaN</td>\n",
       "      <td>NaN</td>\n",
       "      <td>NaN</td>\n",
       "      <td>NaN</td>\n",
       "      <td>NaN</td>\n",
       "      <td>NaN</td>\n",
       "      <td>NaN</td>\n",
       "      <td>NaN</td>\n",
       "      <td>NaN</td>\n",
       "      <td>NaN</td>\n",
       "    </tr>\n",
       "    <tr>\n",
       "      <th>AAGC</th>\n",
       "      <td>NaN</td>\n",
       "      <td>NaN</td>\n",
       "      <td>NaN</td>\n",
       "      <td>NaN</td>\n",
       "      <td>NaN</td>\n",
       "      <td>NaN</td>\n",
       "      <td>NaN</td>\n",
       "      <td>NaN</td>\n",
       "      <td>NaN</td>\n",
       "      <td>NaN</td>\n",
       "      <td>...</td>\n",
       "      <td>NaN</td>\n",
       "      <td>NaN</td>\n",
       "      <td>NaN</td>\n",
       "      <td>NaN</td>\n",
       "      <td>NaN</td>\n",
       "      <td>NaN</td>\n",
       "      <td>NaN</td>\n",
       "      <td>NaN</td>\n",
       "      <td>NaN</td>\n",
       "      <td>NaN</td>\n",
       "    </tr>\n",
       "    <tr>\n",
       "      <th>...</th>\n",
       "      <td>...</td>\n",
       "      <td>...</td>\n",
       "      <td>...</td>\n",
       "      <td>...</td>\n",
       "      <td>...</td>\n",
       "      <td>...</td>\n",
       "      <td>...</td>\n",
       "      <td>...</td>\n",
       "      <td>...</td>\n",
       "      <td>...</td>\n",
       "      <td>...</td>\n",
       "      <td>...</td>\n",
       "      <td>...</td>\n",
       "      <td>...</td>\n",
       "      <td>...</td>\n",
       "      <td>...</td>\n",
       "      <td>...</td>\n",
       "      <td>...</td>\n",
       "      <td>...</td>\n",
       "      <td>...</td>\n",
       "      <td>...</td>\n",
       "    </tr>\n",
       "    <tr>\n",
       "      <th>ZUO</th>\n",
       "      <td>NaN</td>\n",
       "      <td>NaN</td>\n",
       "      <td>NaN</td>\n",
       "      <td>NaN</td>\n",
       "      <td>NaN</td>\n",
       "      <td>NaN</td>\n",
       "      <td>NaN</td>\n",
       "      <td>NaN</td>\n",
       "      <td>NaN</td>\n",
       "      <td>NaN</td>\n",
       "      <td>...</td>\n",
       "      <td>NaN</td>\n",
       "      <td>NaN</td>\n",
       "      <td>NaN</td>\n",
       "      <td>NaN</td>\n",
       "      <td>NaN</td>\n",
       "      <td>NaN</td>\n",
       "      <td>NaN</td>\n",
       "      <td>NaN</td>\n",
       "      <td>NaN</td>\n",
       "      <td>NaN</td>\n",
       "    </tr>\n",
       "    <tr>\n",
       "      <th>ZYB</th>\n",
       "      <td>NaN</td>\n",
       "      <td>NaN</td>\n",
       "      <td>NaN</td>\n",
       "      <td>NaN</td>\n",
       "      <td>NaN</td>\n",
       "      <td>NaN</td>\n",
       "      <td>NaN</td>\n",
       "      <td>NaN</td>\n",
       "      <td>NaN</td>\n",
       "      <td>NaN</td>\n",
       "      <td>...</td>\n",
       "      <td>NaN</td>\n",
       "      <td>NaN</td>\n",
       "      <td>NaN</td>\n",
       "      <td>NaN</td>\n",
       "      <td>NaN</td>\n",
       "      <td>NaN</td>\n",
       "      <td>NaN</td>\n",
       "      <td>NaN</td>\n",
       "      <td>NaN</td>\n",
       "      <td>NaN</td>\n",
       "    </tr>\n",
       "    <tr>\n",
       "      <th>ZYME</th>\n",
       "      <td>NaN</td>\n",
       "      <td>NaN</td>\n",
       "      <td>NaN</td>\n",
       "      <td>NaN</td>\n",
       "      <td>NaN</td>\n",
       "      <td>NaN</td>\n",
       "      <td>NaN</td>\n",
       "      <td>NaN</td>\n",
       "      <td>NaN</td>\n",
       "      <td>NaN</td>\n",
       "      <td>...</td>\n",
       "      <td>NaN</td>\n",
       "      <td>NaN</td>\n",
       "      <td>NaN</td>\n",
       "      <td>NaN</td>\n",
       "      <td>NaN</td>\n",
       "      <td>NaN</td>\n",
       "      <td>NaN</td>\n",
       "      <td>NaN</td>\n",
       "      <td>NaN</td>\n",
       "      <td>NaN</td>\n",
       "    </tr>\n",
       "    <tr>\n",
       "      <th>ZYNE</th>\n",
       "      <td>NaN</td>\n",
       "      <td>NaN</td>\n",
       "      <td>NaN</td>\n",
       "      <td>NaN</td>\n",
       "      <td>NaN</td>\n",
       "      <td>NaN</td>\n",
       "      <td>NaN</td>\n",
       "      <td>NaN</td>\n",
       "      <td>NaN</td>\n",
       "      <td>NaN</td>\n",
       "      <td>...</td>\n",
       "      <td>NaN</td>\n",
       "      <td>NaN</td>\n",
       "      <td>NaN</td>\n",
       "      <td>NaN</td>\n",
       "      <td>NaN</td>\n",
       "      <td>NaN</td>\n",
       "      <td>NaN</td>\n",
       "      <td>NaN</td>\n",
       "      <td>NaN</td>\n",
       "      <td>NaN</td>\n",
       "    </tr>\n",
       "    <tr>\n",
       "      <th>ZZC</th>\n",
       "      <td>NaN</td>\n",
       "      <td>NaN</td>\n",
       "      <td>NaN</td>\n",
       "      <td>NaN</td>\n",
       "      <td>NaN</td>\n",
       "      <td>NaN</td>\n",
       "      <td>NaN</td>\n",
       "      <td>NaN</td>\n",
       "      <td>NaN</td>\n",
       "      <td>NaN</td>\n",
       "      <td>...</td>\n",
       "      <td>NaN</td>\n",
       "      <td>NaN</td>\n",
       "      <td>NaN</td>\n",
       "      <td>NaN</td>\n",
       "      <td>NaN</td>\n",
       "      <td>NaN</td>\n",
       "      <td>NaN</td>\n",
       "      <td>NaN</td>\n",
       "      <td>NaN</td>\n",
       "      <td>NaN</td>\n",
       "    </tr>\n",
       "  </tbody>\n",
       "</table>\n",
       "<p>5171 rows × 448 columns</p>\n",
       "</div>"
      ],
      "text/plain": [
       "Source     A  AABA  AAL  AAOI  AAP  AAPL  ABBV  ABC  ABEV  ABT  ...  XOM  \\\n",
       "Target                                                          ...        \n",
       "A       73.0   NaN  NaN   NaN  NaN   NaN   NaN  NaN   NaN  NaN  ...  NaN   \n",
       "AA       NaN   NaN  NaN   NaN  NaN   NaN   NaN  NaN   NaN  NaN  ...  NaN   \n",
       "AABA     NaN  56.0  NaN   NaN  NaN   NaN   NaN  NaN   NaN  NaN  ...  NaN   \n",
       "AAC      NaN   NaN  NaN   NaN  NaN   NaN   1.0  NaN   NaN  NaN  ...  NaN   \n",
       "AAGC     NaN   NaN  NaN   NaN  NaN   NaN   NaN  NaN   NaN  NaN  ...  NaN   \n",
       "...      ...   ...  ...   ...  ...   ...   ...  ...   ...  ...  ...  ...   \n",
       "ZUO      NaN   NaN  NaN   NaN  NaN   NaN   NaN  NaN   NaN  NaN  ...  NaN   \n",
       "ZYB      NaN   NaN  NaN   NaN  NaN   NaN   NaN  NaN   NaN  NaN  ...  NaN   \n",
       "ZYME     NaN   NaN  NaN   NaN  NaN   NaN   NaN  NaN   NaN  NaN  ...  NaN   \n",
       "ZYNE     NaN   NaN  NaN   NaN  NaN   NaN   NaN  NaN   NaN  NaN  ...  NaN   \n",
       "ZZC      NaN   NaN  NaN   NaN  NaN   NaN   NaN  NaN   NaN  NaN  ...  NaN   \n",
       "\n",
       "Source  XRAY  XRX  XYL  YNDX  YUM  ZBH  ZNGA  ZTS  ticker  \n",
       "Target                                                     \n",
       "A        NaN  NaN  NaN   NaN  9.0  NaN   NaN  NaN     NaN  \n",
       "AA       NaN  NaN  NaN   NaN  NaN  NaN   NaN  NaN     NaN  \n",
       "AABA     NaN  NaN  NaN   NaN  NaN  NaN   NaN  NaN     NaN  \n",
       "AAC      NaN  NaN  NaN   NaN  NaN  NaN   NaN  NaN     NaN  \n",
       "AAGC     NaN  NaN  NaN   NaN  NaN  NaN   NaN  NaN     NaN  \n",
       "...      ...  ...  ...   ...  ...  ...   ...  ...     ...  \n",
       "ZUO      NaN  NaN  NaN   NaN  NaN  NaN   NaN  NaN     NaN  \n",
       "ZYB      NaN  NaN  NaN   NaN  NaN  NaN   NaN  NaN     NaN  \n",
       "ZYME     NaN  NaN  NaN   NaN  NaN  NaN   NaN  NaN     NaN  \n",
       "ZYNE     NaN  NaN  NaN   NaN  NaN  NaN   NaN  NaN     NaN  \n",
       "ZZC      NaN  NaN  NaN   NaN  NaN  NaN   NaN  NaN     NaN  \n",
       "\n",
       "[5171 rows x 448 columns]"
      ]
     },
     "execution_count": 17,
     "metadata": {},
     "output_type": "execute_result"
    }
   ],
   "source": [
    "#Pivot to get matrix form\n",
    "connections = connections.pivot(\"Target\", \"Source\", \"N\")\n",
    "connections"
   ]
  },
  {
   "cell_type": "code",
   "execution_count": 18,
   "metadata": {
    "tags": []
   },
   "outputs": [],
   "source": [
    "#Fill the null values\n",
    "connections = connections.fillna(0)"
   ]
  },
  {
   "cell_type": "code",
   "execution_count": 19,
   "metadata": {},
   "outputs": [
    {
     "name": "stdout",
     "output_type": "stream",
     "text": [
      "Source    FB  AAPL  AMZN  NFLX  GOOG\n",
      "Target                              \n",
      "FB      50.0   0.0   0.0  25.0  10.0\n",
      "AAPL     1.0  24.0   0.0  18.0  10.0\n",
      "AMZN     1.0   0.0   0.0  33.0  14.0\n",
      "NFLX     0.0   0.0   0.0  69.0   3.0\n",
      "GOOG     0.0   0.0   0.0   1.0  70.0\n"
     ]
    }
   ],
   "source": [
    "#An example of connections we might want to see: the FAANG stocks\n",
    "#We will use reindex instead of loc in case one of the columns or indices is missing\n",
    "FAANG =[\"FB\",\"AAPL\",\"AMZN\",\"NFLX\",\"GOOG\"]\n",
    "print(connections.reindex(index=FAANG, columns=FAANG).fillna(0))"
   ]
  },
  {
   "cell_type": "code",
   "execution_count": 20,
   "metadata": {},
   "outputs": [
    {
     "name": "stdout",
     "output_type": "stream",
     "text": [
      "Target\n",
      "NFLX     672.0\n",
      "AMZN     533.0\n",
      "SPY      454.0\n",
      "FB       454.0\n",
      "MSFT     414.0\n",
      "         ...  \n",
      "CRE        1.0\n",
      "NATI       1.0\n",
      "CRES       1.0\n",
      "CRESY      1.0\n",
      "ZZC        1.0\n",
      "Length: 5171, dtype: float64\n"
     ]
    }
   ],
   "source": [
    "#Which are the most referenced stocks?\n",
    "print(connections.sum(axis=1).sort_values(ascending=False))"
   ]
  },
  {
   "cell_type": "code",
   "execution_count": 21,
   "metadata": {},
   "outputs": [
    {
     "name": "stdout",
     "output_type": "stream",
     "text": [
      "Source\n",
      "SQQQ      1353.0\n",
      "CTAS       920.0\n",
      "ESS        890.0\n",
      "HCP        872.0\n",
      "ERIC       762.0\n",
      "           ...  \n",
      "TSS         12.0\n",
      "CMS         12.0\n",
      "M            2.0\n",
      "GS           1.0\n",
      "ticker       1.0\n",
      "Length: 448, dtype: float64\n"
     ]
    }
   ],
   "source": [
    "#And which reference the most other tickers?\n",
    "print(connections.sum().sort_values(ascending=False))"
   ]
  },
  {
   "cell_type": "code",
   "execution_count": 22,
   "metadata": {},
   "outputs": [
    {
     "name": "stdout",
     "output_type": "stream",
     "text": [
      "Target  Source\n",
      "A       A         73.0\n",
      "        AABA       0.0\n",
      "        AAL        0.0\n",
      "        AAOI       0.0\n",
      "        AAP        0.0\n",
      "                  ... \n",
      "ZZC     YUM        0.0\n",
      "        ZBH        0.0\n",
      "        ZNGA       0.0\n",
      "        ZTS        0.0\n",
      "        ticker     0.0\n",
      "Length: 2316608, dtype: float64\n"
     ]
    }
   ],
   "source": [
    "#Recall the behavior of stack\n",
    "print(connections.stack())"
   ]
  },
  {
   "cell_type": "code",
   "execution_count": 23,
   "metadata": {},
   "outputs": [
    {
     "name": "stdout",
     "output_type": "stream",
     "text": [
      "23047\n"
     ]
    }
   ],
   "source": [
    "#We can find unique connections in this way:\n",
    "print((connections.stack() > 0).sum())"
   ]
  },
  {
   "cell_type": "code",
   "execution_count": 24,
   "metadata": {},
   "outputs": [
    {
     "name": "stdout",
     "output_type": "stream",
     "text": [
      "1.0         1\n",
      "1.0         2\n",
      "1.0         3\n",
      "1.0         4\n",
      "1.0         5\n",
      "        ...  \n",
      "89.0    23043\n",
      "90.0    23044\n",
      "90.0    23045\n",
      "94.0    23046\n",
      "95.0    23047\n",
      "Length: 23047, dtype: int64\n"
     ]
    }
   ],
   "source": [
    "#Let's find the cdf of size of each unique connection between tickers\n",
    "#First stack and sort\n",
    "unique_connections = connections.stack()\n",
    "unique_connections = unique_connections[unique_connections > 0]\n",
    "unique_connections = unique_connections.sort_values()\n",
    "cdf = pd.Series(list(range(1,len(unique_connections)+1)), index=unique_connections)\n",
    "print(cdf)"
   ]
  },
  {
   "cell_type": "code",
   "execution_count": 25,
   "metadata": {},
   "outputs": [
    {
     "data": {
      "text/plain": [
       "1.0     0.000043\n",
       "1.0     0.000087\n",
       "1.0     0.000130\n",
       "1.0     0.000174\n",
       "1.0     0.000217\n",
       "          ...   \n",
       "89.0    0.999826\n",
       "90.0    0.999870\n",
       "90.0    0.999913\n",
       "94.0    0.999957\n",
       "95.0    1.000000\n",
       "Length: 23047, dtype: float64"
      ]
     },
     "execution_count": 25,
     "metadata": {},
     "output_type": "execute_result"
    }
   ],
   "source": [
    "#Dividing by the length of the unique connections will give the cdf\n",
    "cdf = cdf / len(unique_connections)\n",
    "cdf"
   ]
  },
  {
   "cell_type": "code",
   "execution_count": 26,
   "metadata": {},
   "outputs": [
    {
     "name": "stdout",
     "output_type": "stream",
     "text": [
      "1.0     0.601076\n",
      "2.0     0.771771\n",
      "3.0     0.843971\n",
      "4.0     0.882110\n",
      "5.0     0.908578\n",
      "          ...   \n",
      "88.0    0.999740\n",
      "89.0    0.999826\n",
      "90.0    0.999913\n",
      "94.0    0.999957\n",
      "95.0    1.000000\n",
      "Length: 91, dtype: float64\n"
     ]
    }
   ],
   "source": [
    "#Because there are repeats of the connection size we will take the maximum of the cdf value for each of the connection sizes\n",
    "cdf = cdf.groupby(cdf.index).max()\n",
    "print(cdf)"
   ]
  },
  {
   "cell_type": "code",
   "execution_count": 27,
   "metadata": {},
   "outputs": [
    {
     "data": {
      "image/png": "[encoded data removed]",
      "text/plain": [
       "<Figure size 432x288 with 1 Axes>"
      ]
     },
     "metadata": {
      "needs_background": "light"
     },
     "output_type": "display_data"
    }
   ],
   "source": [
    "import matplotlib.pyplot as plt\n",
    "#And plot this\n",
    "cdf.plot(kind='line')\n",
    "plt.show()"
   ]
  },
  {
   "cell_type": "markdown",
   "metadata": {},
   "source": [
    "# Network Visualization"
   ]
  },
  {
   "cell_type": "code",
   "execution_count": 28,
   "metadata": {},
   "outputs": [
    {
     "name": "stdout",
     "output_type": "stream",
     "text": [
      "Source\n",
      "NFLX    69.0\n",
      "GNTX    48.0\n",
      "CTAS    35.0\n",
      "SIRI    26.0\n",
      "HON     24.0\n",
      "ISRG    19.0\n",
      "Name: NFLX, dtype: float64\n"
     ]
    }
   ],
   "source": [
    "#First, let's get the top 5 firms that link to netflix to build a network graph\n",
    "nflx_target = connections.loc[\"NFLX\"]\n",
    "nflx_target = nflx_target.sort_values(ascending=False)\n",
    "print(nflx_target.head(6))"
   ]
  },
  {
   "cell_type": "code",
   "execution_count": 29,
   "metadata": {},
   "outputs": [
    {
     "name": "stdout",
     "output_type": "stream",
     "text": [
      "  Source  Connections Target\n",
      "0   NFLX         69.0   NFLX\n",
      "1   GNTX         48.0   NFLX\n",
      "2   CTAS         35.0   NFLX\n",
      "3   SIRI         26.0   NFLX\n",
      "4    HON         24.0   NFLX\n",
      "5   ISRG         19.0   NFLX\n"
     ]
    }
   ],
   "source": [
    "#Build the first level\n",
    "first_level = nflx_target.head(6).reset_index()\n",
    "first_level.columns = [\"Source\", \"Connections\"]\n",
    "first_level[\"Target\"] = \"NFLX\"\n",
    "print(first_level)"
   ]
  },
  {
   "cell_type": "code",
   "execution_count": 30,
   "metadata": {},
   "outputs": [
    {
     "name": "stdout",
     "output_type": "stream",
     "text": [
      "  Source  Connections Target\n",
      "0   GNTX         35.0   GNTX\n",
      "1   TRIP          1.0   GNTX\n",
      "0   CTAS         36.0   CTAS\n",
      "1    KSU         29.0   CTAS\n",
      "2    COF         10.0   CTAS\n",
      "3     ED          7.0   CTAS\n",
      "4   IDXX          5.0   CTAS\n",
      "5    MKC          5.0   CTAS\n",
      "0   SIRI         39.0   SIRI\n",
      "1   FNSR          9.0   SIRI\n",
      "2   AMAT          7.0   SIRI\n",
      "3   NFLX          6.0   SIRI\n",
      "4   VIAB          5.0   SIRI\n",
      "5   SBUX          5.0   SIRI\n",
      "0    HON         54.0    HON\n",
      "1    KSU         28.0    HON\n",
      "2    COF         10.0    HON\n",
      "3   CTAS          8.0    HON\n",
      "4    COL          8.0    HON\n",
      "5    HUM          4.0    HON\n",
      "0   ISRG         59.0   ISRG\n",
      "1   CTAS         33.0   ISRG\n",
      "2   IDXX         11.0   ISRG\n",
      "3    HON         10.0   ISRG\n",
      "4    MKC          5.0   ISRG\n",
      "5    TJX          2.0   ISRG\n"
     ]
    }
   ],
   "source": [
    "#For the second we will iterate through each source but skip over netflix since we already did it\n",
    "#We will also limit to 6 to keep it readable\n",
    "second_level = []\n",
    "for x in first_level[\"Source\"]:\n",
    "    if x == \"NFLX\":\n",
    "        pass\n",
    "    else:\n",
    "        target = connections.loc[x]\n",
    "        target = target.sort_values(ascending=False)\n",
    "        target = target[target>0].head(6)\n",
    "        target = target.reset_index()\n",
    "        target.columns = [\"Source\", \"Connections\"]\n",
    "        target[\"Target\"] = x\n",
    "        second_level.append(target)\n",
    "second_level = pd.concat(second_level)\n",
    "print(second_level)"
   ]
  },
  {
   "cell_type": "code",
   "execution_count": 31,
   "metadata": {},
   "outputs": [
    {
     "name": "stdout",
     "output_type": "stream",
     "text": [
      "   Source  Connections Target\n",
      "0    GNTX         35.0   GNTX\n",
      "1    TRIP          1.0   GNTX\n",
      "0    TRIP         79.0   TRIP\n",
      "1      XL          7.0   TRIP\n",
      "2     MHK          4.0   TRIP\n",
      "..    ...          ...    ...\n",
      "1     MHK         14.0    TJX\n",
      "2    ROST          6.0    TJX\n",
      "3     ODP          4.0    TJX\n",
      "4     AZO          4.0    TJX\n",
      "5     PEG          3.0    TJX\n",
      "\n",
      "[131 rows x 3 columns]\n"
     ]
    }
   ],
   "source": [
    "#Let's also create a third level\n",
    "#We will also do the same filtering of already analyzed targets\n",
    "third_level = []\n",
    "for x in second_level[\"Source\"]:\n",
    "    if x in first_level[\"Target\"] or x in second_level[\"Target\"]:\n",
    "        pass\n",
    "    else:\n",
    "        target = connections.loc[x]\n",
    "        target = target.sort_values(ascending=False)\n",
    "        target = target[target>0].head(6)\n",
    "        target = target.reset_index()\n",
    "        target.columns = [\"Source\", \"Connections\"]\n",
    "        target[\"Target\"] = x\n",
    "        third_level.append(target)\n",
    "third_level = pd.concat(third_level)\n",
    "print(third_level)"
   ]
  },
  {
   "cell_type": "code",
   "execution_count": 32,
   "metadata": {},
   "outputs": [
    {
     "name": "stdout",
     "output_type": "stream",
     "text": [
      "Requirement already satisfied: networkx in /opt/conda/lib/python3.7/site-packages (2.4)\n",
      "Requirement already satisfied: decorator>=4.3.0 in /opt/conda/lib/python3.7/site-packages (from networkx) (4.4.2)\n",
      "\u001b[33mWARNING: You are using pip version 21.3.1; however, version 22.1.2 is available.\n",
      "You should consider upgrading via the '/opt/conda/bin/python3 -m pip install --upgrade pip' command.\u001b[0m\n"
     ]
    }
   ],
   "source": [
    "! pip install networkx"
   ]
  },
  {
   "cell_type": "code",
   "execution_count": 33,
   "metadata": {},
   "outputs": [
    {
     "data": {
      "image/png": "[encoded data removed]",
      "text/plain": [
       "<Figure size 432x288 with 1 Axes>"
      ]
     },
     "metadata": {},
     "output_type": "display_data"
    }
   ],
   "source": [
    "import networkx as nx\n",
    "import matplotlib.pyplot as plt\n",
    "#Initialize the graph\n",
    "G = nx.Graph()\n",
    "#Add a node\n",
    "G.add_node(\"NFLX\")\n",
    "#Draw and show the graph\n",
    "nx.draw(G, with_labels=True, font_weight='bold')\n",
    "plt.show()"
   ]
  },
  {
   "cell_type": "code",
   "execution_count": 34,
   "metadata": {},
   "outputs": [
    {
     "data": {
      "image/png": "[encoded data removed]",
      "text/plain": [
       "<Figure size 432x288 with 1 Axes>"
      ]
     },
     "metadata": {},
     "output_type": "display_data"
    }
   ],
   "source": [
    "#Draw all nodes for the first and second level\n",
    "G = nx.Graph()\n",
    "for node in set(list(first_level[\"Target\"]) + list(first_level[\"Source\"])):\n",
    "    G.add_node(node)\n",
    "nx.draw(G, with_labels=True, font_weight='bold')\n",
    "plt.show()"
   ]
  },
  {
   "cell_type": "code",
   "execution_count": 35,
   "metadata": {},
   "outputs": [
    {
     "data": {
      "image/png": "[encoded data removed]",
      "text/plain": [
       "<Figure size 432x288 with 1 Axes>"
      ]
     },
     "metadata": {},
     "output_type": "display_data"
    }
   ],
   "source": [
    "G = nx.Graph()\n",
    "for node in set(list(first_level[\"Target\"]) + list(first_level[\"Source\"])):\n",
    "    G.add_node(node)\n",
    "#An example of how to draw connections between nodes\n",
    "G.add_edges_from([[\"NFLX\", \"HON\"], [\"NFLX\", \"SIRI\"]])\n",
    "nx.draw(G, with_labels=True, font_weight='bold')\n",
    "plt.show()"
   ]
  },
  {
   "cell_type": "code",
   "execution_count": 36,
   "metadata": {},
   "outputs": [
    {
     "data": {
      "image/png": "[encoded data removed]",
      "text/plain": [
       "<Figure size 432x288 with 1 Axes>"
      ]
     },
     "metadata": {},
     "output_type": "display_data"
    }
   ],
   "source": [
    "#Put it together for the first level connections\n",
    "G = nx.Graph()\n",
    "for node in set(list(first_level[\"Target\"]) + list(first_level[\"Source\"])):\n",
    "    G.add_node(node)\n",
    "G.add_edges_from(first_level[[\"Source\", \"Target\"]].values)\n",
    "nx.draw(G, with_labels=True, font_weight='bold')\n",
    "plt.show()"
   ]
  },
  {
   "cell_type": "code",
   "execution_count": 37,
   "metadata": {},
   "outputs": [
    {
     "data": {
      "image/png": "[encoded data removed]",
      "text/plain": [
       "<Figure size 432x288 with 1 Axes>"
      ]
     },
     "metadata": {},
     "output_type": "display_data"
    }
   ],
   "source": [
    "G = nx.Graph()\n",
    "#Create a dataframe which holds first level and second level\n",
    "graph_nodes = pd.concat([first_level, second_level])\n",
    "for node in set(list(graph_nodes[\"Target\"]) + list(graph_nodes[\"Source\"])):\n",
    "    G.add_node(node)\n",
    "G.add_edges_from(graph_nodes[[\"Source\", \"Target\"]].values)\n",
    "nx.draw(G, with_labels=True, font_weight='bold')\n",
    "plt.show()"
   ]
  },
  {
   "cell_type": "code",
   "execution_count": 38,
   "metadata": {},
   "outputs": [
    {
     "data": {
      "image/png": "[encoded data removed]",
      "text/plain": [
       "<Figure size 432x288 with 1 Axes>"
      ]
     },
     "metadata": {},
     "output_type": "display_data"
    }
   ],
   "source": [
    "#Extend to the third level\n",
    "G = nx.Graph()\n",
    "graph_nodes = pd.concat([first_level, second_level, third_level])\n",
    "for node in set(list(graph_nodes[\"Target\"]) + list(graph_nodes[\"Source\"])):\n",
    "    G.add_node(node)\n",
    "G.add_edges_from(graph_nodes[[\"Source\", \"Target\"]].values)\n",
    "nx.draw(G, with_labels=True, font_weight='bold')\n",
    "plt.show()"
   ]
  },
  {
   "cell_type": "markdown",
   "metadata": {},
   "source": [
    "# Replicating PageRank"
   ]
  },
  {
   "cell_type": "code",
   "execution_count": 39,
   "metadata": {
    "jupyter": {
     "outputs_hidden": true
    }
   },
   "outputs": [],
   "source": [
    "#Let's begin with four nodes, we can think of these as web pages\n",
    "#A has links to B, C, D.... B links to A, D and so on\n",
    "out_bound_connections = {\"A\": [\"B\", \"C\", \"D\"],\n",
    "                        \"B\": [\"A\", \"D\"],\n",
    "                        \"C\":[\"A\"],\n",
    "                        \"D\": [\"C\", \"B\"]}"
   ]
  },
  {
   "cell_type": "code",
   "execution_count": 40,
   "metadata": {
    "jupyter": {
     "outputs_hidden": true
    }
   },
   "outputs": [],
   "source": [
    "#The page rank starts equally for each page\n",
    "page_rank = {\"A\": .25, \"B\": .25, \"C\": .25, \"D\": .25}"
   ]
  },
  {
   "cell_type": "code",
   "execution_count": 41,
   "metadata": {},
   "outputs": [
    {
     "name": "stdout",
     "output_type": "stream",
     "text": [
      "Node: A\n",
      "Page Rank:\n",
      "0.25\n",
      "Out Connections:\n",
      "['B', 'C', 'D']\n",
      "New page ranks at most recent step:\n",
      "{'A': 0, 'B': 0.08333333333333333, 'C': 0.08333333333333333, 'D': 0.08333333333333333}\n",
      "\n",
      "Node: B\n",
      "Page Rank:\n",
      "0.25\n",
      "Out Connections:\n",
      "['A', 'D']\n",
      "New page ranks at most recent step:\n",
      "{'A': 0.125, 'B': 0.08333333333333333, 'C': 0.08333333333333333, 'D': 0.20833333333333331}\n",
      "\n",
      "Node: C\n",
      "Page Rank:\n",
      "0.25\n",
      "Out Connections:\n",
      "['A']\n",
      "New page ranks at most recent step:\n",
      "{'A': 0.375, 'B': 0.08333333333333333, 'C': 0.08333333333333333, 'D': 0.20833333333333331}\n",
      "\n",
      "Node: D\n",
      "Page Rank:\n",
      "0.25\n",
      "Out Connections:\n",
      "['C', 'B']\n",
      "New page ranks at most recent step:\n",
      "{'A': 0.375, 'B': 0.20833333333333331, 'C': 0.20833333333333331, 'D': 0.20833333333333331}\n",
      "\n",
      "Final page rank:\n",
      "{'A': 0.375, 'B': 0.20833333333333331, 'C': 0.20833333333333331, 'D': 0.20833333333333331}\n"
     ]
    }
   ],
   "source": [
    "#Using the page rank we can iterate through each page and see how they transfer their page rank to others\n",
    "#Let's see how one iteration of page rank would work\n",
    "new_page_rank = {\"A\": 0, \"B\": 0, \"C\": 0, \"D\": 0}\n",
    "for node in out_bound_connections.keys():\n",
    "    print(\"Node: {}\".format(node))\n",
    "    print(\"Page Rank:\")\n",
    "    print(page_rank[node])\n",
    "    print(\"Out Connections:\")\n",
    "    print(out_bound_connections[node])\n",
    "    for connected_node in out_bound_connections[node]:\n",
    "        new_page_rank[connected_node] += (1 / len(out_bound_connections[node])) * page_rank[node]\n",
    "    print(\"New page ranks at most recent step:\")\n",
    "    print(new_page_rank)\n",
    "    print()\n",
    "print(\"Final page rank:\")\n",
    "print(new_page_rank)"
   ]
  },
  {
   "cell_type": "code",
   "execution_count": 42,
   "metadata": {},
   "outputs": [
    {
     "name": "stdout",
     "output_type": "stream",
     "text": [
      "Starting page ranks before adding:\n",
      "{'A': 0.037500000000000006, 'B': 0.037500000000000006, 'C': 0.037500000000000006, 'D': 0.037500000000000006}\n",
      "\n",
      "Node: A\n",
      "Page Rank:\n",
      "0.25\n",
      "Out Connections:\n",
      "['B', 'C', 'D']\n",
      "Updated page ranks at most recent step:\n",
      "{'A': 0.037500000000000006, 'B': 0.10833333333333334, 'C': 0.10833333333333334, 'D': 0.10833333333333334}\n",
      "\n",
      "Node: B\n",
      "Page Rank:\n",
      "0.25\n",
      "Out Connections:\n",
      "['A', 'D']\n",
      "Updated page ranks at most recent step:\n",
      "{'A': 0.14375, 'B': 0.10833333333333334, 'C': 0.10833333333333334, 'D': 0.21458333333333335}\n",
      "\n",
      "Node: C\n",
      "Page Rank:\n",
      "0.25\n",
      "Out Connections:\n",
      "['A']\n",
      "Updated page ranks at most recent step:\n",
      "{'A': 0.35624999999999996, 'B': 0.10833333333333334, 'C': 0.10833333333333334, 'D': 0.21458333333333335}\n",
      "\n",
      "Node: D\n",
      "Page Rank:\n",
      "0.25\n",
      "Out Connections:\n",
      "['C', 'B']\n",
      "Updated page ranks at most recent step:\n",
      "{'A': 0.35624999999999996, 'B': 0.21458333333333335, 'C': 0.21458333333333335, 'D': 0.21458333333333335}\n",
      "\n",
      "Final page rank:\n",
      "{'A': 0.35624999999999996, 'B': 0.21458333333333335, 'C': 0.21458333333333335, 'D': 0.21458333333333335}\n"
     ]
    }
   ],
   "source": [
    "#Adding a damping factor can be done in the following way\n",
    "page_rank = {\"A\": .25, \"B\": .25, \"C\": .25, \"D\": .25}\n",
    "damping_factor = .85\n",
    "new_page_rank = {}\n",
    "for node_name in [\"A\", \"B\", \"C\", \"D\"]:\n",
    "    new_page_rank[node_name] = (1-damping_factor) /4\n",
    "print(\"Starting page ranks before adding:\")\n",
    "print(new_page_rank)\n",
    "print()\n",
    "for node in out_bound_connections.keys():\n",
    "    print(\"Node: {}\".format(node))\n",
    "    print(\"Page Rank:\")\n",
    "    print(page_rank[node])\n",
    "    print(\"Out Connections:\")\n",
    "    print(out_bound_connections[node])\n",
    "    for connected_node in out_bound_connections[node]:\n",
    "        new_page_rank[connected_node] += (1 / len(out_bound_connections[node])) * page_rank[node] * damping_factor\n",
    "    print(\"Updated page ranks at most recent step:\")\n",
    "    print(new_page_rank)\n",
    "    print()\n",
    "print(\"Final page rank:\")\n",
    "print(new_page_rank)"
   ]
  },
  {
   "cell_type": "code",
   "execution_count": 43,
   "metadata": {},
   "outputs": [
    {
     "name": "stdout",
     "output_type": "stream",
     "text": [
      "{'A': 0.25, 'B': 0.25, 'C': 0.25, 'D': 0.25}\n",
      "{'A': 0.35624999999999996, 'B': 0.21458333333333335, 'C': 0.21458333333333335, 'D': 0.21458333333333335}\n"
     ]
    }
   ],
   "source": [
    "#And how we can formalize into a function\n",
    "def compute_page_rank(node_names, out_bound_connections, page_rank, damping_factor):\n",
    "    new_page_rank = {}\n",
    "    for node_name in [\"A\", \"B\", \"C\", \"D\"]:\n",
    "        new_page_rank[node_name] = (1-damping_factor) / len(node_names)\n",
    "    for node in out_bound_connections.keys():\n",
    "        for connected_node in out_bound_connections[node]:\n",
    "            new_page_rank[connected_node] += (1 / len(out_bound_connections[node])) * page_rank[node] * damping_factor\n",
    "    return new_page_rank\n",
    "\n",
    "node_names = [\"A\", \"B\", \"C\", \"D\"]\n",
    "page_rank = {}\n",
    "for node_name in node_names:\n",
    "        page_rank[node_name] = (1) / len(node_names)\n",
    "print(page_rank)\n",
    "print(compute_page_rank(node_names, out_bound_connections, page_rank, damping_factor))"
   ]
  },
  {
   "cell_type": "code",
   "execution_count": 44,
   "metadata": {},
   "outputs": [
    {
     "name": "stdout",
     "output_type": "stream",
     "text": [
      "{'A': 0.25, 'B': 0.25, 'C': 0.25, 'D': 0.25}\n",
      "{'A': 0.35624999999999996, 'B': 0.21458333333333335, 'C': 0.21458333333333335, 'D': 0.21458333333333335}\n",
      "{'A': 0.31109375000000006, 'B': 0.22963541666666665, 'C': 0.22963541666666665, 'D': 0.22963541666666665}\n",
      "{'A': 0.33028515625, 'B': 0.22323828125, 'C': 0.22323828125, 'D': 0.22323828125}\n",
      "{'A': 0.32212880859375004, 'B': 0.22595706380208333, 'C': 0.22595706380208333, 'D': 0.22595706380208333}\n"
     ]
    }
   ],
   "source": [
    "#Watch what happens when we keep iterating\n",
    "node_names = [\"A\", \"B\", \"C\", \"D\"]\n",
    "damping_factor = .85\n",
    "page_rank = {}\n",
    "for node_name in node_names:\n",
    "        page_rank[node_name] = 1 / len(node_names)\n",
    "print(page_rank)\n",
    "page_rank = compute_page_rank(node_names, out_bound_connections, page_rank, damping_factor)\n",
    "print(page_rank)\n",
    "page_rank = compute_page_rank(node_names, out_bound_connections, page_rank, damping_factor)\n",
    "print(page_rank)\n",
    "page_rank = compute_page_rank(node_names, out_bound_connections, page_rank, damping_factor)\n",
    "print(page_rank)\n",
    "page_rank = compute_page_rank(node_names, out_bound_connections, page_rank, damping_factor)\n",
    "print(page_rank)"
   ]
  },
  {
   "cell_type": "code",
   "execution_count": 45,
   "metadata": {},
   "outputs": [
    {
     "name": "stdout",
     "output_type": "stream",
     "text": [
      "   A  B  C  D\n",
      "A  0  1  1  0\n",
      "B  1  0  0  1\n",
      "C  1  0  0  1\n",
      "D  1  1  0  0\n",
      "\n",
      "          A    B    C    D\n",
      "A  0.000000  0.5  1.0  0.0\n",
      "B  0.333333  0.0  0.0  0.5\n",
      "C  0.333333  0.0  0.0  0.5\n",
      "D  0.333333  0.5  0.0  0.0\n"
     ]
    }
   ],
   "source": [
    "import pandas as pd\n",
    "\n",
    "#Now let's move beyond dictionaries into matrix form\n",
    "#First denote each column as what a ticker points to\n",
    "#So column A has 1 for B, C, D since it points out to them\n",
    "connection_matrix = pd.DataFrame([[0, 1, 1, 0],\n",
    " [1, 0, 0, 1],\n",
    " [1, 0, 0, 1],\n",
    " [1, 1, 0, 0]],\n",
    "                               index = [\"A\", \"B\", \"C\", \"D\"],\n",
    "                               columns = [\"A\", \"B\", \"C\", \"D\"])\n",
    "print(connection_matrix)\n",
    "print()\n",
    "#Normalize by total number of connections out for each column\n",
    "connection_matrix = connection_matrix / connection_matrix.sum()\n",
    "print(connection_matrix)"
   ]
  },
  {
   "cell_type": "code",
   "execution_count": 46,
   "metadata": {},
   "outputs": [
    {
     "name": "stdout",
     "output_type": "stream",
     "text": [
      "A    0.25\n",
      "B    0.25\n",
      "C    0.25\n",
      "D    0.25\n",
      "dtype: float64\n"
     ]
    }
   ],
   "source": [
    "#Now, there is a vector for page rank\n",
    "page_rank_vector = pd.Series(.25, index = [\"A\", \"B\", \"C\", \"D\"])\n",
    "print(page_rank_vector)"
   ]
  },
  {
   "cell_type": "code",
   "execution_count": 47,
   "metadata": {},
   "outputs": [
    {
     "name": "stdout",
     "output_type": "stream",
     "text": [
      "A    0.000\n",
      "B    0.125\n",
      "C    0.250\n",
      "D    0.000\n",
      "dtype: float64\n",
      "\n",
      "0.375\n"
     ]
    }
   ],
   "source": [
    "#A row times the page rank vector would denote what the new page rank would be\n",
    "#In this case without a damping factor\n",
    "print(connection_matrix.loc[\"A\"] * page_rank_vector)\n",
    "print()\n",
    "print((connection_matrix.loc[\"A\"] * page_rank_vector).sum())"
   ]
  },
  {
   "cell_type": "code",
   "execution_count": 48,
   "metadata": {},
   "outputs": [
    {
     "name": "stdout",
     "output_type": "stream",
     "text": [
      "A    0.375000\n",
      "B    0.208333\n",
      "C    0.208333\n",
      "D    0.208333\n",
      "dtype: float64\n"
     ]
    }
   ],
   "source": [
    "#And with matrix multiplication we can simply calculate all the new page ranks\n",
    "print(connection_matrix.dot(page_rank_vector))"
   ]
  },
  {
   "cell_type": "code",
   "execution_count": 49,
   "metadata": {},
   "outputs": [
    {
     "name": "stdout",
     "output_type": "stream",
     "text": [
      "           A         B         C         D\n",
      "0   0.250000  0.250000  0.250000  0.250000\n",
      "1   0.375000  0.208333  0.208333  0.208333\n",
      "2   0.312500  0.229167  0.229167  0.229167\n",
      "3   0.343750  0.218750  0.218750  0.218750\n",
      "4   0.328125  0.223958  0.223958  0.223958\n",
      "5   0.335938  0.221354  0.221354  0.221354\n",
      "6   0.332031  0.222656  0.222656  0.222656\n",
      "7   0.333984  0.222005  0.222005  0.222005\n",
      "8   0.333008  0.222331  0.222331  0.222331\n",
      "9   0.333496  0.222168  0.222168  0.222168\n",
      "10  0.333252  0.222249  0.222249  0.222249\n",
      "11  0.333374  0.222209  0.222209  0.222209\n",
      "12  0.333313  0.222229  0.222229  0.222229\n",
      "13  0.333344  0.222219  0.222219  0.222219\n",
      "14  0.333328  0.222224  0.222224  0.222224\n",
      "15  0.333336  0.222221  0.222221  0.222221\n",
      "16  0.333332  0.222223  0.222223  0.222223\n",
      "17  0.333334  0.222222  0.222222  0.222222\n",
      "18  0.333333  0.222222  0.222222  0.222222\n",
      "19  0.333333  0.222222  0.222222  0.222222\n",
      "20  0.333333  0.222222  0.222222  0.222222\n"
     ]
    },
    {
     "data": {
      "image/png": "[encoded data removed]",
      "text/plain": [
       "<Figure size 432x288 with 1 Axes>"
      ]
     },
     "metadata": {
      "needs_background": "light"
     },
     "output_type": "display_data"
    }
   ],
   "source": [
    "import matplotlib.pyplot as plt\n",
    "\n",
    "#Let's see how the page ranks would eventually converge if not using a damping factor\n",
    "page_rank_vector = pd.Series(.25, index = [\"A\", \"B\", \"C\", \"D\"])\n",
    "page_rank_vectors = [page_rank_vector]\n",
    "for _ in range(20):\n",
    "    page_rank_vector = connection_matrix.dot(page_rank_vector)\n",
    "    page_rank_vectors.append(page_rank_vector)\n",
    "page_rank_vectors = pd.DataFrame(page_rank_vectors)\n",
    "print(page_rank_vectors)\n",
    "\n",
    "page_rank_vectors.plot(kind='line')\n",
    "plt.show()"
   ]
  },
  {
   "cell_type": "code",
   "execution_count": 50,
   "metadata": {},
   "outputs": [
    {
     "name": "stdout",
     "output_type": "stream",
     "text": [
      "A    0.356250\n",
      "B    0.214583\n",
      "C    0.214583\n",
      "D    0.214583\n",
      "dtype: float64\n"
     ]
    }
   ],
   "source": [
    "#Alternatively, with a damping factor, we can calculate as so\n",
    "page_rank_vector = pd.Series(.25, index = [\"A\", \"B\", \"C\", \"D\"])\n",
    "damping_factor = .85\n",
    "\n",
    "page_rank_vector = (1-damping_factor)/len(connection_matrix) + damping_factor * connection_matrix.dot(page_rank_vector)\n",
    "print(page_rank_vector)"
   ]
  },
  {
   "cell_type": "code",
   "execution_count": 51,
   "metadata": {},
   "outputs": [
    {
     "name": "stdout",
     "output_type": "stream",
     "text": [
      "           A         B         C         D\n",
      "0   0.250000  0.250000  0.250000  0.250000\n",
      "1   0.356250  0.214583  0.214583  0.214583\n",
      "2   0.311094  0.229635  0.229635  0.229635\n",
      "3   0.330285  0.223238  0.223238  0.223238\n",
      "4   0.322129  0.225957  0.225957  0.225957\n",
      "5   0.325595  0.224802  0.224802  0.224802\n",
      "6   0.324122  0.225293  0.225293  0.225293\n",
      "7   0.324748  0.225084  0.225084  0.225084\n",
      "8   0.324482  0.225173  0.225173  0.225173\n",
      "9   0.324595  0.225135  0.225135  0.225135\n",
      "10  0.324547  0.225151  0.225151  0.225151\n",
      "11  0.324567  0.225144  0.225144  0.225144\n",
      "12  0.324559  0.225147  0.225147  0.225147\n",
      "13  0.324563  0.225146  0.225146  0.225146\n",
      "14  0.324561  0.225146  0.225146  0.225146\n",
      "15  0.324562  0.225146  0.225146  0.225146\n",
      "16  0.324561  0.225146  0.225146  0.225146\n",
      "17  0.324561  0.225146  0.225146  0.225146\n",
      "18  0.324561  0.225146  0.225146  0.225146\n",
      "19  0.324561  0.225146  0.225146  0.225146\n",
      "20  0.324561  0.225146  0.225146  0.225146\n"
     ]
    },
    {
     "data": {
      "image/png": "[encoded data removed]",
      "text/plain": [
       "<Figure size 432x288 with 1 Axes>"
      ]
     },
     "metadata": {
      "needs_background": "light"
     },
     "output_type": "display_data"
    }
   ],
   "source": [
    "#And the same analysis\n",
    "page_rank_vector = pd.Series(.25, index = [\"A\", \"B\", \"C\", \"D\"])\n",
    "page_rank_vectors = [page_rank_vector]\n",
    "for _ in range(20):\n",
    "    page_rank_vector = (1-damping_factor)/len(connection_matrix) + damping_factor * connection_matrix.dot(page_rank_vector)\n",
    "    page_rank_vectors.append(page_rank_vector)\n",
    "page_rank_vectors = pd.DataFrame(page_rank_vectors)\n",
    "print(page_rank_vectors)\n",
    "\n",
    "page_rank_vectors.plot(kind='line')\n",
    "plt.show()"
   ]
  },
  {
   "cell_type": "code",
   "execution_count": 52,
   "metadata": {},
   "outputs": [
    {
     "name": "stdout",
     "output_type": "stream",
     "text": [
      "           A         B         C         D\n",
      "0   0.250000  0.250000  0.250000  0.250000\n",
      "1   0.462500  0.214583  0.108333  0.214583\n",
      "2   0.311979  0.259740  0.168542  0.259740\n",
      "3   0.401539  0.236283  0.125894  0.236283\n",
      "4   0.345351  0.251690  0.151269  0.251690\n",
      "5   0.380015  0.242318  0.135349  0.242318\n",
      "6   0.358517  0.248156  0.145171  0.248156\n",
      "7   0.371828  0.244546  0.139080  0.244546\n",
      "8   0.363582  0.246783  0.142851  0.246783\n",
      "9   0.368689  0.245398  0.140515  0.245398\n",
      "10  0.365526  0.246256  0.141962  0.246256\n",
      "11  0.367485  0.245724  0.141066  0.245724\n",
      "12  0.366272  0.246054  0.141621  0.246054\n",
      "13  0.367023  0.245850  0.141277  0.245850\n",
      "14  0.366558  0.245976  0.141490  0.245976\n",
      "15  0.366846  0.245898  0.141358  0.245898\n",
      "16  0.366668  0.245946  0.141440  0.245946\n",
      "17  0.366778  0.245916  0.141389  0.245916\n",
      "18  0.366710  0.245935  0.141420  0.245935\n",
      "19  0.366752  0.245923  0.141401  0.245923\n",
      "20  0.366726  0.245931  0.141413  0.245931\n"
     ]
    },
    {
     "data": {
      "image/png": "[encoded data removed]",
      "text/plain": [
       "<Figure size 432x288 with 1 Axes>"
      ]
     },
     "metadata": {
      "needs_background": "light"
     },
     "output_type": "display_data"
    }
   ],
   "source": [
    "#Now what if D instead pointed only to A and B instead?\n",
    "connection_matrix[\"D\"] = [.5,.5,0,0]\n",
    "page_rank_vector = pd.Series(.25, index = [\"A\", \"B\", \"C\", \"D\"])\n",
    "page_rank_vectors = [page_rank_vector]\n",
    "for _ in range(20):\n",
    "    page_rank_vector = (1-damping_factor)/len(connection_matrix) + damping_factor * connection_matrix.dot(page_rank_vector)\n",
    "    page_rank_vectors.append(page_rank_vector)\n",
    "page_rank_vectors = pd.DataFrame(page_rank_vectors)\n",
    "print(page_rank_vectors)\n",
    "\n",
    "page_rank_vectors.plot(kind='line')\n",
    "plt.show()"
   ]
  },
  {
   "cell_type": "code",
   "execution_count": 53,
   "metadata": {},
   "outputs": [
    {
     "name": "stdout",
     "output_type": "stream",
     "text": [
      "0.2602582851707127\n"
     ]
    }
   ],
   "source": [
    "import numpy as np\n",
    "#Finally, we might want to not run x runs but instead run until the differences are extremely small\n",
    "#Especially when we work with a larger dataset\n",
    "page_rank_vector = pd.Series(.25, index = [\"A\", \"B\", \"C\", \"D\"])\n",
    "\n",
    "page_rank_vector_new = (1-damping_factor)/len(connection_matrix) + damping_factor * connection_matrix.dot(page_rank_vector)\n",
    "\n",
    "#We can compute distance to see what the amount of change was\n",
    "print(np.linalg.norm(page_rank_vector - page_rank_vector_new, 2))"
   ]
  },
  {
   "cell_type": "code",
   "execution_count": 54,
   "metadata": {},
   "outputs": [
    {
     "name": "stdout",
     "output_type": "stream",
     "text": [
      "0.2602582851707127\n",
      "0.1742404617138737\n",
      "0.1045952833774308\n",
      "0.06538909118334942\n",
      "0.04038254437344823\n",
      "0.02503634605186005\n",
      "0.015503167955968757\n",
      "0.009603639078095236\n",
      "0.005948386377146021\n",
      "0.00368450241355703\n",
      "0.002282198385197637\n",
      "0.0014136098126659473\n",
      "0.0008755988926000616\n",
      "0.0005423517109635969\n",
      "0.00033593617714348565\n",
      "0.00020808106048124514\n",
      "0.00012888676536890444\n",
      "7.983330298146346e-05\n",
      "4.9449268430374195e-05\n",
      "3.062919931696637e-05\n"
     ]
    }
   ],
   "source": [
    "page_rank_vector = pd.Series(.25, index = [\"A\", \"B\", \"C\", \"D\"])\n",
    "#You can see the differences get smaller and smaller\n",
    "for _ in range(20):\n",
    "    page_rank_vector_old = page_rank_vector\n",
    "    page_rank_vector = (1-damping_factor)/len(connection_matrix) + damping_factor * connection_matrix.dot(page_rank_vector)\n",
    "    print(np.linalg.norm(page_rank_vector - page_rank_vector_old, 2))"
   ]
  },
  {
   "cell_type": "code",
   "execution_count": 55,
   "metadata": {},
   "outputs": [
    {
     "name": "stdout",
     "output_type": "stream",
     "text": [
      "A    0.366736\n",
      "B    0.245928\n",
      "C    0.141409\n",
      "D    0.245928\n",
      "dtype: float64\n",
      "Took 28 loops to converge\n"
     ]
    }
   ],
   "source": [
    "page_rank_vector = pd.Series(.25, index = [\"A\", \"B\", \"C\", \"D\"])\n",
    "#Start with a dummy old value\n",
    "page_rank_vector_old = pd.Series(100, index = [\"A\", \"B\", \"C\", \"D\"])\n",
    "i = 0\n",
    "while np.linalg.norm(page_rank_vector - page_rank_vector_old, 2) > 1.0e-6:\n",
    "    page_rank_vector_old = page_rank_vector\n",
    "    page_rank_vector = (1-damping_factor)/len(connection_matrix) + damping_factor * connection_matrix.dot(page_rank_vector)\n",
    "    i+=1\n",
    "print(page_rank_vector)\n",
    "print(\"Took {} loops to converge\".format(i))"
   ]
  },
  {
   "cell_type": "code",
   "execution_count": 56,
   "metadata": {},
   "outputs": [
    {
     "name": "stdout",
     "output_type": "stream",
     "text": [
      "Source     A  AABA  AAL  AAOI  AAP  AAPL  ABBV  ABC  ABEV  ABT  ...  XOM  \\\n",
      "Target                                                          ...        \n",
      "A       73.0   0.0  0.0   0.0  0.0   0.0   0.0  0.0   0.0  0.0  ...  0.0   \n",
      "AA       0.0   0.0  0.0   0.0  0.0   0.0   0.0  0.0   0.0  0.0  ...  0.0   \n",
      "AABA     0.0  56.0  0.0   0.0  0.0   0.0   0.0  0.0   0.0  0.0  ...  0.0   \n",
      "AAC      0.0   0.0  0.0   0.0  0.0   0.0   1.0  0.0   0.0  0.0  ...  0.0   \n",
      "AAGC     0.0   0.0  0.0   0.0  0.0   0.0   0.0  0.0   0.0  0.0  ...  0.0   \n",
      "...      ...   ...  ...   ...  ...   ...   ...  ...   ...  ...  ...  ...   \n",
      "ZUO      0.0   0.0  0.0   0.0  0.0   0.0   0.0  0.0   0.0  0.0  ...  0.0   \n",
      "ZYB      0.0   0.0  0.0   0.0  0.0   0.0   0.0  0.0   0.0  0.0  ...  0.0   \n",
      "ZYME     0.0   0.0  0.0   0.0  0.0   0.0   0.0  0.0   0.0  0.0  ...  0.0   \n",
      "ZYNE     0.0   0.0  0.0   0.0  0.0   0.0   0.0  0.0   0.0  0.0  ...  0.0   \n",
      "ZZC      0.0   0.0  0.0   0.0  0.0   0.0   0.0  0.0   0.0  0.0  ...  0.0   \n",
      "\n",
      "Source  XRAY  XRX  XYL  YNDX  YUM  ZBH  ZNGA  ZTS  ticker  \n",
      "Target                                                     \n",
      "A        0.0  0.0  0.0   0.0  9.0  0.0   0.0  0.0     0.0  \n",
      "AA       0.0  0.0  0.0   0.0  0.0  0.0   0.0  0.0     0.0  \n",
      "AABA     0.0  0.0  0.0   0.0  0.0  0.0   0.0  0.0     0.0  \n",
      "AAC      0.0  0.0  0.0   0.0  0.0  0.0   0.0  0.0     0.0  \n",
      "AAGC     0.0  0.0  0.0   0.0  0.0  0.0   0.0  0.0     0.0  \n",
      "...      ...  ...  ...   ...  ...  ...   ...  ...     ...  \n",
      "ZUO      0.0  0.0  0.0   0.0  0.0  0.0   0.0  0.0     0.0  \n",
      "ZYB      0.0  0.0  0.0   0.0  0.0  0.0   0.0  0.0     0.0  \n",
      "ZYME     0.0  0.0  0.0   0.0  0.0  0.0   0.0  0.0     0.0  \n",
      "ZYNE     0.0  0.0  0.0   0.0  0.0  0.0   0.0  0.0     0.0  \n",
      "ZZC      0.0  0.0  0.0   0.0  0.0  0.0   0.0  0.0     0.0  \n",
      "\n",
      "[5171 rows x 448 columns]\n"
     ]
    }
   ],
   "source": [
    "#Let's re-visit the twitter dataset, recall our matrix...\n",
    "print(connections)"
   ]
  },
  {
   "cell_type": "code",
   "execution_count": 57,
   "metadata": {
    "jupyter": {
     "outputs_hidden": true
    }
   },
   "outputs": [],
   "source": [
    "#Let's turn it into a binary matrix\n",
    "connections_binary = connections.copy()\n",
    "connections_binary[connections_binary > 0] = 1\n",
    "\n",
    "#Reindex so that all index and column values are present\n",
    "i = connections_binary.index.union(connections_binary.columns)\n",
    "connections_binary = connections_binary.reindex(index=i, columns=i).fillna(0)"
   ]
  },
  {
   "cell_type": "code",
   "execution_count": 58,
   "metadata": {},
   "outputs": [
    {
     "name": "stdout",
     "output_type": "stream",
     "text": [
      "[[ True False False ... False False False]\n",
      " [False  True False ... False False False]\n",
      " [False False  True ... False False False]\n",
      " ...\n",
      " [False False False ...  True False False]\n",
      " [False False False ... False  True False]\n",
      " [False False False ... False False  True]]\n",
      "          A   AA  AABA  AAC  AAGC  AAL  AALY  AAME  AAN  AAOI  ...  ZSC  \\\n",
      "A       0.0  0.0   0.0  0.0   0.0  0.0   0.0   0.0  0.0   0.0  ...  0.0   \n",
      "AA      0.0  0.0   0.0  0.0   0.0  0.0   0.0   0.0  0.0   0.0  ...  0.0   \n",
      "AABA    0.0  0.0   0.0  0.0   0.0  0.0   0.0   0.0  0.0   0.0  ...  0.0   \n",
      "AAC     0.0  0.0   0.0  0.0   0.0  0.0   0.0   0.0  0.0   0.0  ...  0.0   \n",
      "AAGC    0.0  0.0   0.0  0.0   0.0  0.0   0.0   0.0  0.0   0.0  ...  0.0   \n",
      "...     ...  ...   ...  ...   ...  ...   ...   ...  ...   ...  ...  ...   \n",
      "ZYB     0.0  0.0   0.0  0.0   0.0  0.0   0.0   0.0  0.0   0.0  ...  0.0   \n",
      "ZYME    0.0  0.0   0.0  0.0   0.0  0.0   0.0   0.0  0.0   0.0  ...  0.0   \n",
      "ZYNE    0.0  0.0   0.0  0.0   0.0  0.0   0.0   0.0  0.0   0.0  ...  0.0   \n",
      "ZZC     0.0  0.0   0.0  0.0   0.0  0.0   0.0   0.0  0.0   0.0  ...  0.0   \n",
      "ticker  0.0  0.0   0.0  0.0   0.0  0.0   0.0   0.0  0.0   0.0  ...  0.0   \n",
      "\n",
      "        ZTCOY  ZTO  ZTS  ZUO  ZYB  ZYME  ZYNE  ZZC  ticker  \n",
      "A         0.0  0.0  0.0  0.0  0.0   0.0   0.0  0.0     0.0  \n",
      "AA        0.0  0.0  0.0  0.0  0.0   0.0   0.0  0.0     0.0  \n",
      "AABA      0.0  0.0  0.0  0.0  0.0   0.0   0.0  0.0     0.0  \n",
      "AAC       0.0  0.0  0.0  0.0  0.0   0.0   0.0  0.0     0.0  \n",
      "AAGC      0.0  0.0  0.0  0.0  0.0   0.0   0.0  0.0     0.0  \n",
      "...       ...  ...  ...  ...  ...   ...   ...  ...     ...  \n",
      "ZYB       0.0  0.0  0.0  0.0  0.0   0.0   0.0  0.0     0.0  \n",
      "ZYME      0.0  0.0  0.0  0.0  0.0   0.0   0.0  0.0     0.0  \n",
      "ZYNE      0.0  0.0  0.0  0.0  0.0   0.0   0.0  0.0     0.0  \n",
      "ZZC       0.0  0.0  0.0  0.0  0.0   0.0   0.0  0.0     0.0  \n",
      "ticker    0.0  0.0  0.0  0.0  0.0   0.0   0.0  0.0     0.0  \n",
      "\n",
      "[5172 rows x 5172 columns]\n"
     ]
    }
   ],
   "source": [
    "#We want to also eliminate diagonal elements\n",
    "\n",
    "#First grab the indices present in the matrix\n",
    "rows, cols = np.indices((len(connections_binary.columns), len(connections_binary.columns)))\n",
    "\n",
    "#Diagonal elements indices\n",
    "print(rows == cols)\n",
    "\n",
    "mask = rows == cols\n",
    "connections_binary = connections_binary.mask(mask).fillna(0)\n",
    "print(connections_binary)"
   ]
  },
  {
   "cell_type": "code",
   "execution_count": null,
   "metadata": {
    "scrolled": true
   },
   "outputs": [],
   "source": [
    "#Finally, normalize the columns to sum to 1\n",
    "connections_binary = (connections_binary / connections_binary.sum()).fillna(0)\n",
    "print(connections_binary)"
   ]
  },
  {
   "cell_type": "code",
   "execution_count": null,
   "metadata": {},
   "outputs": [],
   "source": [
    "page_rank_vector = pd.Series(1/len(connections_binary), index = connections_binary.index)\n",
    "#Start with a dummy old value\n",
    "page_rank_vector_old = pd.Series(100, index = connections_binary.index)\n",
    "damping_factor = .85\n",
    "\n",
    "i = 0\n",
    "while np.linalg.norm(page_rank_vector - page_rank_vector_old, 2) > 1.0e-6:\n",
    "    page_rank_vector_old = page_rank_vector\n",
    "    page_rank_vector = (1-damping_factor)/len(connections_binary) + damping_factor * connections_binary.dot(page_rank_vector)\n",
    "    i+=1\n",
    "print(page_rank_vector.sort_values(ascending=False))\n",
    "print(\"Took {} loops to converge\".format(i))"
   ]
  },
  {
   "cell_type": "code",
   "execution_count": null,
   "metadata": {},
   "outputs": [],
   "source": []
  }
 ],
 "metadata": {
  "kernelspec": {
   "display_name": "Python 3",
   "language": "python",
   "name": "python3"
  },
  "language_info": {
   "codemirror_mode": {
    "name": "ipython",
    "version": 3
   },
   "file_extension": ".py",
   "mimetype": "text/x-python",
   "name": "python",
   "nbconvert_exporter": "python",
   "pygments_lexer": "ipython3",
   "version": "3.7.6"
  }
 },
 "nbformat": 4,
 "nbformat_minor": 4
}
