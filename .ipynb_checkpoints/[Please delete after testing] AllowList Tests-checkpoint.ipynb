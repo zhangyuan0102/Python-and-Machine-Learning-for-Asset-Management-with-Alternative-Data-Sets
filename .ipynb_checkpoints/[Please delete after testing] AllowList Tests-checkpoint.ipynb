{
 "cells": [
  {
   "cell_type": "code",
   "execution_count": 1,
   "metadata": {},
   "outputs": [],
   "source": [
    "#This URL contains the latest 13F filings\n",
    "url = 'https://www.sec.gov/cgi-bin/browse-edgar?company=&CIK=&type=13F&owner=include&count=100&action=getcurrent'\n",
    "import requests\n",
    "request = requests.get(url)"
   ]
  },
  {
   "cell_type": "code",
   "execution_count": 2,
   "metadata": {},
   "outputs": [
    {
     "name": "stdout",
     "output_type": "stream",
     "text": [
      "--2022-07-27 18:26:03--  http://www.sec.gov/\n",
      "Resolving www.sec.gov (www.sec.gov)... 104.100.208.97, 2600:1408:c400:791::2374, 2600:1408:c400:781::2374\n",
      "Connecting to www.sec.gov (www.sec.gov)|104.100.208.97|:80... connected.\n",
      "HTTP request sent, awaiting response... 301 Moved Permanently\n",
      "Location: https://www.sec.gov/ [following]\n",
      "--2022-07-27 18:26:03--  https://www.sec.gov/\n",
      "Connecting to www.sec.gov (www.sec.gov)|104.100.208.97|:443... connected.\n",
      "HTTP request sent, awaiting response... 200 OK\n",
      "Length: unspecified [text/html]\n",
      "Saving to: ‘index.html’\n",
      "\n",
      "index.html              [ <=>                ]  80.59K  --.-KB/s    in 0.09s   \n",
      "\n",
      "2022-07-27 18:26:03 (927 KB/s) - ‘index.html’ saved [82523]\n",
      "\n"
     ]
    }
   ],
   "source": [
    "!wget www.sec.gov"
   ]
  },
  {
   "cell_type": "code",
   "execution_count": 3,
   "metadata": {},
   "outputs": [
    {
     "name": "stdout",
     "output_type": "stream",
     "text": [
      "--2022-07-27 18:26:07--  https://en.wikipedia.org/wiki/S%26P_100\n",
      "Resolving en.wikipedia.org (en.wikipedia.org)... 208.80.154.224, 2620:0:861:ed1a::1\n",
      "Connecting to en.wikipedia.org (en.wikipedia.org)|208.80.154.224|:443... connected.\n",
      "HTTP request sent, awaiting response... 200 OK\n",
      "Length: 68524 (67K) [text/html]\n",
      "Saving to: ‘S&P_100’\n",
      "\n",
      "S&P_100             100%[===================>]  66.92K  --.-KB/s    in 0.04s   \n",
      "\n",
      "2022-07-27 18:26:07 (1.51 MB/s) - ‘S&P_100’ saved [68524/68524]\n",
      "\n"
     ]
    }
   ],
   "source": [
    "!wget https://en.wikipedia.org/wiki/S%26P_100 "
   ]
  },
  {
   "cell_type": "code",
   "execution_count": 4,
   "metadata": {},
   "outputs": [
    {
     "name": "stdout",
     "output_type": "stream",
     "text": [
      "--2022-07-27 18:26:10--  https://en.wikipedia.org/\n",
      "Resolving en.wikipedia.org (en.wikipedia.org)... 208.80.154.224, 2620:0:861:ed1a::1\n",
      "Connecting to en.wikipedia.org (en.wikipedia.org)|208.80.154.224|:443... connected.\n",
      "HTTP request sent, awaiting response... 301 Moved Permanently\n",
      "Location: https://en.wikipedia.org/wiki/Main_Page [following]\n",
      "--2022-07-27 18:26:11--  https://en.wikipedia.org/wiki/Main_Page\n",
      "Reusing existing connection to en.wikipedia.org:443.\n",
      "HTTP request sent, awaiting response... 200 OK\n",
      "Length: 83268 (81K) [text/html]\n",
      "Saving to: ‘index.html.1’\n",
      "\n",
      "index.html.1        100%[===================>]  81.32K  --.-KB/s    in 0.04s   \n",
      "\n",
      "2022-07-27 18:26:11 (1.95 MB/s) - ‘index.html.1’ saved [83268/83268]\n",
      "\n"
     ]
    }
   ],
   "source": [
    "!wget https://en.wikipedia.org"
   ]
  },
  {
   "cell_type": "code",
   "execution_count": 5,
   "metadata": {},
   "outputs": [
    {
     "data": {
      "text/plain": [
       "environ{'WORKSPACE_ENV_VARS': 'WORKSPACE_ID,COURSE_ID,SUBMISSION_TOKEN,PROXY_IMPROVEMENT,WORKSPACE_TYPE',\n",
       "        'LC_ALL': 'en_US.UTF-8',\n",
       "        'WORKSPACE_ID': 'instructorihuibquc',\n",
       "        'WORKSPACE_TYPE': 'instructor',\n",
       "        'LANG': 'en_US.UTF-8',\n",
       "        'HOSTNAME': '16040c0d20cf',\n",
       "        'JULIA_DEPOT_PATH': '/opt/julia',\n",
       "        'JULIA_PKGDIR': '/opt/julia',\n",
       "        'NB_UID': '1000',\n",
       "        'CONDA_DIR': '/opt/conda',\n",
       "        'CONDA_VERSION': '4.8.2',\n",
       "        'PWD': '/home/jovyan/work',\n",
       "        'HOME': '/home/jovyan',\n",
       "        'MINICONDA_MD5': '87e77f097f6ebb5127c77662dfc3165e',\n",
       "        'DEBIAN_FRONTEND': 'noninteractive',\n",
       "        'PROXY_IMPROVEMENT': 'true',\n",
       "        'NB_USER': 'jovyan',\n",
       "        'JULIA_VERSION': '1.4.1',\n",
       "        'SHELL': '/bin/bash',\n",
       "        'PYTHONWARNINGS': 'ignore',\n",
       "        'SHLVL': '0',\n",
       "        'LANGUAGE': 'en_US.UTF-8',\n",
       "        'XDG_CACHE_HOME': '/home/jovyan/.cache/',\n",
       "        'NB_GID': '100',\n",
       "        'PATH': '/opt/conda/bin:/usr/local/sbin:/usr/local/bin:/usr/sbin:/usr/bin:/sbin:/bin',\n",
       "        'COURSE_ID': 'gafB-pzHEeigWgp_hi6FmA',\n",
       "        'SUBMISSION_TOKEN': '2d2CpKJocJxttvypgQ1R',\n",
       "        'MINICONDA_VERSION': '4.8.2',\n",
       "        'KERNEL_LAUNCH_TIMEOUT': '40',\n",
       "        'JPY_PARENT_PID': '7',\n",
       "        'TERM': 'xterm-color',\n",
       "        'CLICOLOR': '1',\n",
       "        'PAGER': 'cat',\n",
       "        'GIT_PAGER': 'cat',\n",
       "        'MPLBACKEND': 'module://ipykernel.pylab.backend_inline'}"
      ]
     },
     "execution_count": 5,
     "metadata": {},
     "output_type": "execute_result"
    }
   ],
   "source": [
    "import os\n",
    "os.environ"
   ]
  },
  {
   "cell_type": "code",
   "execution_count": null,
   "metadata": {},
   "outputs": [],
   "source": []
  }
 ],
 "metadata": {
  "kernelspec": {
   "display_name": "Python 3",
   "language": "python",
   "name": "python3"
  },
  "language_info": {
   "codemirror_mode": {
    "name": "ipython",
    "version": 3
   },
   "file_extension": ".py",
   "mimetype": "text/x-python",
   "name": "python",
   "nbconvert_exporter": "python",
   "pygments_lexer": "ipython3",
   "version": "3.7.6"
  }
 },
 "nbformat": 4,
 "nbformat_minor": 4
}
