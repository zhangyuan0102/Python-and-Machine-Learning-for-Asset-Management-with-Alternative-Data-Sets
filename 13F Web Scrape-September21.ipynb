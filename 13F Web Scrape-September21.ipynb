{
 "cells": [
  {
   "cell_type": "code",
   "execution_count": 1,
   "metadata": {
    "tags": []
   },
   "outputs": [],
   "source": [
    "#This URL contains the latest 13F filings\n",
    "url = 'https://www.sec.gov/cgi-bin/browse-edgar?company=&CIK=&type=13F&owner=include&count=100&action=getcurrent'\n",
    "import requests\n",
    "request = requests.get(url)"
   ]
  },
  {
   "cell_type": "code",
   "execution_count": 2,
   "metadata": {
    "scrolled": true
   },
   "outputs": [
    {
     "ename": "IndexError",
     "evalue": "list index out of range",
     "output_type": "error",
     "traceback": [
      "\u001b[0;31m---------------------------------------------------------------------------\u001b[0m",
      "\u001b[0;31mIndexError\u001b[0m                                Traceback (most recent call last)",
      "\u001b[0;32m<ipython-input-2-53a5db92fc2b>\u001b[0m in \u001b[0;36m<module>\u001b[0;34m\u001b[0m\n\u001b[1;32m      5\u001b[0m \u001b[0msoup\u001b[0m \u001b[0;34m=\u001b[0m \u001b[0mBeautifulSoup\u001b[0m\u001b[0;34m(\u001b[0m\u001b[0mrequest\u001b[0m\u001b[0;34m.\u001b[0m\u001b[0mcontent\u001b[0m\u001b[0;34m,\u001b[0m \u001b[0;34m'lxml'\u001b[0m\u001b[0;34m)\u001b[0m\u001b[0;34m\u001b[0m\u001b[0;34m\u001b[0m\u001b[0m\n\u001b[1;32m      6\u001b[0m \u001b[0mmaster_table\u001b[0m \u001b[0;34m=\u001b[0m \u001b[0msoup\u001b[0m\u001b[0;34m.\u001b[0m\u001b[0mfind_all\u001b[0m\u001b[0;34m(\u001b[0m\u001b[0;34m'table'\u001b[0m\u001b[0;34m)\u001b[0m\u001b[0;34m\u001b[0m\u001b[0;34m\u001b[0m\u001b[0m\n\u001b[0;32m----> 7\u001b[0;31m \u001b[0mmaster_table\u001b[0m \u001b[0;34m=\u001b[0m \u001b[0mmaster_table\u001b[0m\u001b[0;34m[\u001b[0m\u001b[0;36m6\u001b[0m\u001b[0;34m]\u001b[0m\u001b[0;34m\u001b[0m\u001b[0;34m\u001b[0m\u001b[0m\n\u001b[0m\u001b[1;32m      8\u001b[0m \u001b[0mprint\u001b[0m\u001b[0;34m(\u001b[0m\u001b[0mmaster_table\u001b[0m\u001b[0;34m)\u001b[0m\u001b[0;34m\u001b[0m\u001b[0;34m\u001b[0m\u001b[0m\n",
      "\u001b[0;31mIndexError\u001b[0m: list index out of range"
     ]
    }
   ],
   "source": [
    "from bs4 import BeautifulSoup\n",
    "\n",
    "#The 7th table in the document is the table which holds all the records of what filings were made\n",
    "\n",
    "soup = BeautifulSoup(request.content, 'lxml')\n",
    "master_table = soup.find_all('table')\n",
    "master_table = master_table[6]\n",
    "print(master_table)"
   ]
  },
  {
   "cell_type": "code",
   "execution_count": 4,
   "metadata": {},
   "outputs": [
    {
     "name": "stdout",
     "output_type": "stream",
     "text": [
      "<a href=\"/Archives/edgar/data/1079563/000106299319002338/0001062993-19-002338-index.htm\">[html]</a>\n"
     ]
    }
   ],
   "source": [
    "#Looking within the table, we can see that hyperlinks with the text [html] lead to the company filing page\n",
    "links = master_table.find_all(\"a\", text = \"[html]\")\n",
    "print(links[0])"
   ]
  },
  {
   "cell_type": "code",
   "execution_count": 5,
   "metadata": {},
   "outputs": [
    {
     "name": "stdout",
     "output_type": "stream",
     "text": [
      "<!DOCTYPE HTML PUBLIC \"-//W3C//DTD HTML 4.01 Transitional//EN\" \"http://www.w3.org/TR/html4/loose.dtd\">\n",
      "<html xmlns=\"http://www.w3.org/1999/xhtml\">\n",
      "<head>\n",
      "<meta content=\"text/html; charset=utf-8\" http-equiv=\"Content-Type\"/>\n",
      "<title>EDGAR Filing Documents for 0001062993-19-002338</title>\n",
      "<link href=\"/include/interactive.css\" rel=\"stylesheet\" type=\"text/css\"/>\n",
      "</head>\n",
      "<body style=\"margin: 0\">\n",
      "<!-- SEC Web Analytics - For information please visit: https://www.sec.gov/privacy.htm#collectedinfo -->\n",
      "<noscript><iframe height=\"0\" src=\"//www.googletagmanager.com/ns.html?id=GTM-TD3BKV\" style=\"display:none;visibility:hidden\" width=\"0\"></iframe></noscript>\n",
      "<script>(function(w,d,s,l,i){w[l]=w[l]||[];w[l].push({'gtm.start':\n",
      "new Date().getTime(),event:'gtm.js'});var f=d.getElementsByTagName(s)[0],\n",
      "j=d.createElement(s),dl=l!='dataLayer'?'&l='+l:'';j.async=true;j.src=\n",
      "'//www.googletagmanager.com/gtm.js?id='+i+dl;f.parentNode.insertBefore(j,f);\n",
      "})(window,document,'script','dataLayer','GTM-TD3BKV');</script>\n",
      "<!-- End SEC Web Analytics -->\n",
      "<noscript><div style=\"color:red; font-weight:bold; text-align:center;\">This page uses Javascript. Your browser either doesn't support Javascript or you have it turned off. To see this page as it is meant to appear please use a Javascript enabled browser.</div></noscript>\n",
      "<!-- BEGIN BANNER -->\n",
      "<div id=\"headerTop\">\n",
      "<div id=\"Nav\"><a href=\"/index.htm\">Home</a> | <a href=\"/cgi-bin/browse-edgar?action=getcurrent\">Latest Filings</a> | <a href=\"javascript:history.back()\">Previous Page</a></div>\n",
      "<div id=\"seal\"><a href=\"/index.htm\"><img alt=\"SEC Seal\" border=\"0\" src=\"/images/sealTop.gif\"/></a></div>\n",
      "<div id=\"secWordGraphic\"><img alt=\"SEC Banner\" src=\"/images/bannerTitle.gif\"/></div>\n",
      "</div>\n",
      "<div id=\"headerBottom\">\n",
      "<div id=\"searchHome\"><a href=\"/edgar/searchedgar/webusers.htm\">Search the Next-Generation EDGAR System</a></div>\n",
      "<div id=\"PageTitle\">Filing Detail</div>\n",
      "</div>\n",
      "<!-- END BANNER -->\n",
      "<!-- BEGIN BREADCRUMBS -->\n",
      "<div id=\"breadCrumbs\">\n",
      "<ul>\n",
      "<li><a href=\"/index.htm\">SEC Home</a> »</li>\n",
      "<li><a href=\"/edgar/searchedgar/webusers.htm\">Search the Next-Generation EDGAR System</a> »</li>\n",
      "<li><a href=\"/edgar/searchedgar/companysearch.html\">Company Search</a> »</li>\n",
      "<li class=\"last\">Current Page</li>\n",
      "</ul>\n",
      "</div>\n",
      "<!-- END BREADCRUMBS -->\n",
      "<div id=\"contentDiv\">\n",
      "<!-- START FILING DIV -->\n",
      "<div id=\"formDiv\">\n",
      "<div id=\"formHeader\">\n",
      "<div id=\"formName\">\n",
      "<strong>Form 13F-HR/A</strong> - Quarterly report filed by institutional managers, Holdings: <b>[Amend]</b>\n",
      "</div>\n",
      "<div id=\"secNum\">\n",
      "<strong><acronym title=\"Securities and Exchange Commission\">SEC</acronym> Accession <acronym title=\"Number\">No.</acronym></strong> 0001062993-19-002338\n",
      "      </div>\n",
      "</div>\n",
      "<div class=\"formContent\">\n",
      "<div class=\"formGrouping\">\n",
      "<div class=\"infoHead\">Filing Date</div>\n",
      "<div class=\"info\">2019-05-17</div>\n",
      "<div class=\"infoHead\">Accepted</div>\n",
      "<div class=\"info\">2019-05-17 16:16:11</div>\n",
      "<div class=\"infoHead\">Documents</div>\n",
      "<div class=\"info\">2</div>\n",
      "</div>\n",
      "<div class=\"formGrouping\">\n",
      "<div class=\"infoHead\">Period of Report</div>\n",
      "<div class=\"info\">2018-12-31</div>\n",
      "<div class=\"infoHead\">Effectiveness Date</div>\n",
      "<div class=\"info\">2019-05-17</div>\n",
      "</div>\n",
      "<div style=\"clear:both\"></div>\n",
      "</div>\n",
      "</div>\n",
      "<!-- END FILING DIV -->\n",
      "<!-- START DOCUMENT DIV -->\n",
      "<div id=\"formDiv\">\n",
      "<div style=\"padding: 0px 0px 4px 0px; font-size: 12px; margin: 0px 2px 0px 5px; width: 100%; overflow:hidden\">\n",
      "<p>Document Format Files</p>\n",
      "<table class=\"tableFile\" summary=\"Document Format Files\">\n",
      "<tr>\n",
      "<th scope=\"col\" style=\"width: 5%;\"><acronym title=\"Sequence Number\">Seq</acronym></th>\n",
      "<th scope=\"col\" style=\"width: 40%;\">Description</th>\n",
      "<th scope=\"col\" style=\"width: 20%;\">Document</th>\n",
      "<th scope=\"col\" style=\"width: 10%;\">Type</th>\n",
      "<th scope=\"col\">Size</th>\n",
      "</tr>\n",
      "<tr>\n",
      "<td scope=\"row\">1</td>\n",
      "<td scope=\"row\"></td>\n",
      "<td scope=\"row\"><a href=\"/Archives/edgar/data/1079563/000106299319002338/xslForm13F_X01/primary_doc.xml\">primary_doc.html</a></td>\n",
      "<td scope=\"row\">13F-HR/A</td>\n",
      "<td scope=\"row\"> </td>\n",
      "</tr>\n",
      "<tr class=\"blueRow\">\n",
      "<td scope=\"row\">1</td>\n",
      "<td scope=\"row\"></td>\n",
      "<td scope=\"row\"><a href=\"/Archives/edgar/data/1079563/000106299319002338/primary_doc.xml\">primary_doc.xml</a></td>\n",
      "<td scope=\"row\">13F-HR/A</td>\n",
      "<td scope=\"row\">2802</td>\n",
      "</tr>\n",
      "<tr>\n",
      "<td scope=\"row\">2</td>\n",
      "<td scope=\"row\">FORM 13F INFORMATION TABLE</td>\n",
      "<td scope=\"row\"><a href=\"/Archives/edgar/data/1079563/000106299319002338/xslForm13F_X01/form13fInfoTable.xml\">form13fInfoTable.html</a></td>\n",
      "<td scope=\"row\">INFORMATION TABLE</td>\n",
      "<td scope=\"row\"> </td>\n",
      "</tr>\n",
      "<tr class=\"blueRow\">\n",
      "<td scope=\"row\">2</td>\n",
      "<td scope=\"row\">FORM 13F INFORMATION TABLE</td>\n",
      "<td scope=\"row\"><a href=\"/Archives/edgar/data/1079563/000106299319002338/form13fInfoTable.xml\">form13fInfoTable.xml</a></td>\n",
      "<td scope=\"row\">INFORMATION TABLE</td>\n",
      "<td scope=\"row\">11409</td>\n",
      "</tr>\n",
      "<tr>\n",
      "<td scope=\"row\"> </td>\n",
      "<td scope=\"row\">Complete submission text file</td>\n",
      "<td scope=\"row\"><a href=\"/Archives/edgar/data/1079563/000106299319002338/0001062993-19-002338.txt\">0001062993-19-002338.txt</a></td>\n",
      "<td scope=\"row\"> </td>\n",
      "<td scope=\"row\">15437</td>\n",
      "</tr>\n",
      "</table>\n",
      "</div>\n",
      "</div>\n",
      "<!-- END DOCUMENT DIV -->\n",
      "<!-- START FILER DIV -->\n",
      "<div id=\"filerDiv\">\n",
      "<div class=\"mailer\">Mailing Address\n",
      "      <span class=\"mailerAddress\">200 CLARENDON STREET 59TH FLOOR</span>\n",
      "<span class=\"mailerAddress\">\n",
      "BOSTON MA 02116      </span>\n",
      "</div>\n",
      "<div class=\"mailer\">Business Address\n",
      "      <span class=\"mailerAddress\">200 CLARENDON STREET 59TH FLOOR</span>\n",
      "<span class=\"mailerAddress\">\n",
      "BOSTON MA 02116      </span>\n",
      "<span class=\"mailerAddress\">6178507500</span>\n",
      "</div>\n",
      "<div class=\"companyInfo\">\n",
      "<span class=\"companyName\">HIGHFIELDS CAPITAL MANAGEMENT LP (Filer)\n",
      " <acronym title=\"Central Index Key\">CIK</acronym>: <a href=\"/cgi-bin/browse-edgar?CIK=0001079563&amp;action=getcompany\">0001079563 (see all company filings)</a></span>\n",
      "<p class=\"identInfo\"><acronym title=\"Internal Revenue Service Number\">IRS No.</acronym>: <strong>043419481</strong> | State of Incorp.: <strong>DE</strong> | Fiscal Year End: <strong>1231</strong><br/>Type: <strong>13F-HR/A</strong> | Act: <strong>34</strong> | File No.: <a href=\"/cgi-bin/browse-edgar?filenum=028-03499&amp;action=getcompany\"><strong>028-03499</strong></a> | Film No.: <strong>19835861</strong></p>\n",
      "</div>\n",
      "<div class=\"clear\"></div>\n",
      "</div>\n",
      "<!-- END FILER DIV -->\n",
      "</div>\n",
      "</body></html>\n"
     ]
    }
   ],
   "source": [
    "#Add in the prefix to the link element\n",
    "filing_link = 'https://www.sec.gov' +links[0].attrs['href']\n",
    "filing_page = BeautifulSoup(requests.get(filing_link).content, 'lxml')\n",
    "print(filing_page)"
   ]
  },
  {
   "cell_type": "code",
   "execution_count": 7,
   "metadata": {},
   "outputs": [],
   "source": [
    "#Now that we know how to get the basic landing pages for the filings, let's save them down so we can use them in the future\n",
    "for i, link in enumerate(links):\n",
    "    filing_link = 'https://www.sec.gov' +link.attrs['href']\n",
    "    filing_page = BeautifulSoup(requests.get(filing_link).content, 'lxml')\n",
    "    with open(\"Data/13F/File{}.html\".format(i), \"w\") as file:\n",
    "        file.write(str(filing_page))"
   ]
  }
 ],
 "metadata": {
  "kernelspec": {
   "display_name": "Python 3",
   "language": "python",
   "name": "python3"
  },
  "language_info": {
   "codemirror_mode": {
    "name": "ipython",
    "version": 3
   },
   "file_extension": ".py",
   "mimetype": "text/x-python",
   "name": "python",
   "nbconvert_exporter": "python",
   "pygments_lexer": "ipython3",
   "version": "3.7.6"
  }
 },
 "nbformat": 4,
 "nbformat_minor": 4
}
